{
 "cells": [
  {
   "cell_type": "markdown",
   "metadata": {
    "id": "1ca378d2-83b4-4b21-bd0a-e7da66f86508",
    "papermill": {
     "duration": 0.03651,
     "end_time": "2022-01-03T20:41:30.226712",
     "exception": false,
     "start_time": "2022-01-03T20:41:30.190202",
     "status": "completed"
    },
    "tags": []
   },
   "source": [
    "# <center>House Price Prediction</center>\n",
    "<div style=\"width:100%;text-align: center;\"> <img align = middle src=\"https://images.pexels.com/photos/186077/pexels-photo-186077.jpeg?auto=compress&cs=tinysrgb&dpr=1&w=500\" style=\"height:300px;\"> </div>"
   ]
  },
  {
   "cell_type": "markdown",
   "metadata": {
    "id": "0f2b8a46-0fea-4333-8ec5-69ef4906bf95",
    "papermill": {
     "duration": 0.035371,
     "end_time": "2022-01-03T20:41:30.299356",
     "exception": false,
     "start_time": "2022-01-03T20:41:30.263985",
     "status": "completed"
    },
    "tags": []
   },
   "source": [
    "# Dataset Fields\n",
    "\n",
    "Description of the data given:\n",
    "\n",
    "- **SalePrice**: The property's sale price in dollars. This is the target variable that you're trying to predict.\n",
    "- **MSSubClass**: The building class\n",
    "- **MSZoning**: The general zoning classification\n",
    "- **LotFrontage**: Linear feet of street connected to property\n",
    "- **LotArea**: Lot size in square feet\n",
    "- **Street**: Type of road access\n",
    "- **Alley**: Type of alley access\n",
    "- **LotShape**: General shape of property\n",
    "- **LandContour**: Flatness of the property\n",
    "- **Utilities**: Type of utilities available\n",
    "- **LotConfig**: Lot configuration\n",
    "- **LandSlope**: Slope of property\n",
    "- **Neighborhood**: Physical locations within Ames city limits\n",
    "- **Condition1**: Proximity to main road or railroad\n",
    "- **Condition2**: Proximity to main road or railroad (if a second is present)\n",
    "- **BldgType**: Type of dwelling\n",
    "- **HouseStyle**: Style of dwelling\n",
    "- **OverallQual**: Overall material and finish quality\n",
    "- **OverallCond**: Overall condition rating\n",
    "- **YearBuilt**: Original construction date\n",
    "- **YearRemodAdd**: Remodel date\n",
    "- **RoofStyle**: Type of roof\n",
    "- **RoofMatl**: Roof material\n",
    "- **Exterior1st**: Exterior covering on house\n",
    "- **Exterior2nd**: Exterior covering on house (if more than one material)\n",
    "- **MasVnrType**: Masonry veneer type\n",
    "- **MasVnrArea**: Masonry veneer area in square feet\n",
    "- **ExterQual**: Exterior material quality\n",
    "- **ExterCond**: Present condition of the material on the exterior\n",
    "- **Foundation**: Type of foundation\n",
    "- **BsmtQual**: Height of the basement\n",
    "- **BsmtCond**: General condition of the basement\n",
    "- **BsmtExposure**: Walkout or garden level basement walls\n",
    "- **BsmtFinType1**: Quality of basement finished area\n",
    "- **BsmtFinSF1**: Type 1 finished square feet\n",
    "- **BsmtFinType2**: Quality of second finished area (if present)\n",
    "- **BsmtFinSF2**: Type 2 finished square feet\n",
    "- **BsmtUnfSF**: Unfinished square feet of basement area\n",
    "- **TotalBsmtSF**: Total square feet of basement area\n",
    "- **Heating**: Type of heating\n",
    "- **HeatingQC**: Heating quality and condition\n",
    "- **CentralAir**: Central air conditioning\n",
    "- **Electrical**: Electrical system\n",
    "- **1stFlrSF**: First Floor square feet\n",
    "- **2ndFlrSF**: Second floor square feet\n",
    "- **LowQualFinSF**: Low quality finished square feet (all floors)\n",
    "- **GrLivArea**: Above grade (ground) living area square feet\n",
    "- **BsmtFullBath**: Basement full bathrooms\n",
    "- **BsmtHalfBath**: Basement half bathrooms\n",
    "- **FullBath**: Full bathrooms above grade\n",
    "- **HalfBath**: Half baths above grade\n",
    "- **Bedroom**: Number of bedrooms above basement level\n",
    "- **Kitchen**: Number of kitchens\n",
    "- **KitchenQual**: Kitchen quality\n",
    "- **TotRmsAbvGrd**: Total rooms above grade (does not include bathrooms)\n",
    "- **Functional**: Home functionality rating\n",
    "- **Fireplaces**: Number of fireplaces\n",
    "- **FireplaceQu**: Fireplace quality\n",
    "- **GarageType**: Garage location\n",
    "- **GarageYrBlt**: Year garage was built\n",
    "- **GarageFinish**: Interior finish of the garage\n",
    "- **GarageCars**: Size of garage in car capacity\n",
    "- **GarageArea**: Size of garage in square feet\n",
    "- **GarageQual**: Garage quality\n",
    "- **GarageCond**: Garage condition\n",
    "- **PavedDrive**: Paved driveway\n",
    "- **WoodDeckSF**: Wood deck area in square feet\n",
    "- **OpenPorchSF**: Open porch area in square feet\n",
    "- **EnclosedPorch**: Enclosed porch area in square feet\n",
    "- **3SsnPorch**: Three season porch area in square feet\n",
    "- **ScreenPorch**: Screen porch area in square feet\n",
    "- **PoolArea**: Pool area in square feet\n",
    "- **PoolQC**: Pool quality\n",
    "- **Fence**: Fence quality\n",
    "- **MiscFeature**: Miscellaneous feature not covered in other categories\n",
    "- **MiscVal**: $Value of miscellaneous feature\n",
    "- **MoSold**: Month Sold\n",
    "- **YrSold**: Year Sold\n",
    "- **SaleType**: Type of sale\n",
    "- **SaleCondition**: Condition of sale"
   ]
  },
  {
   "cell_type": "markdown",
   "metadata": {
    "id": "d30ce443-82f4-4735-936d-cda323b36c14",
    "papermill": {
     "duration": 0.036587,
     "end_time": "2022-01-03T20:41:30.371427",
     "exception": false,
     "start_time": "2022-01-03T20:41:30.334840",
     "status": "completed"
    },
    "tags": []
   },
   "source": [
    "# Importing the Necessary Libraries"
   ]
  },
  {
   "cell_type": "code",
   "execution_count": null,
   "metadata": {
    "execution": {
     "iopub.execute_input": "2022-01-03T20:41:30.456462Z",
     "iopub.status.busy": "2022-01-03T20:41:30.455649Z",
     "iopub.status.idle": "2022-01-03T20:41:31.708864Z",
     "shell.execute_reply": "2022-01-03T20:41:31.708000Z",
     "shell.execute_reply.started": "2022-01-03T19:57:06.796764Z"
    },
    "id": "adf7e501-7921-4acf-ae1f-ba764939a162",
    "papermill": {
     "duration": 1.30205,
     "end_time": "2022-01-03T20:41:31.709048",
     "exception": false,
     "start_time": "2022-01-03T20:41:30.406998",
     "status": "completed"
    },
    "tags": []
   },
   "outputs": [],
   "source": [
    "import numpy as np\n",
    "import pandas as pd\n",
    "import os\n",
    "import matplotlib.pyplot as plt\n",
    "import seaborn as sns\n",
    "import graphviz\n",
    "\n",
    "from sklearn.preprocessing import LabelEncoder\n",
    "from sklearn.preprocessing import StandardScaler\n",
    "\n",
    "from sklearn.model_selection import train_test_split\n",
    "from sklearn.model_selection import GridSearchCV\n",
    "\n",
    "from sklearn.metrics import mean_squared_error\n",
    "\n",
    "from sklearn.linear_model import LinearRegression\n",
    "from sklearn.linear_model import Lasso\n",
    "from sklearn.linear_model import Ridge\n",
    "from sklearn.linear_model import ElasticNet\n",
    "from sklearn.svm import SVR\n",
    "from sklearn import tree\n",
    "from sklearn.tree import DecisionTreeRegressor\n",
    "from sklearn.ensemble import RandomForestRegressor\n",
    "from sklearn.ensemble import AdaBoostRegressor\n",
    "\n",
    "import warnings\n",
    "warnings.filterwarnings('ignore')"
   ]
  },
  {
   "cell_type": "markdown",
   "metadata": {
    "id": "e142101a-302a-4d2f-8a57-d6ebad851584",
    "papermill": {
     "duration": 0.034999,
     "end_time": "2022-01-03T20:41:31.779401",
     "exception": false,
     "start_time": "2022-01-03T20:41:31.744402",
     "status": "completed"
    },
    "tags": []
   },
   "source": [
    "<h3>Printing out a list of all the files in the directory (optional)</h3>"
   ]
  },
  {
   "cell_type": "code",
   "execution_count": null,
   "metadata": {
    "execution": {
     "iopub.execute_input": "2022-01-03T20:41:31.854675Z",
     "iopub.status.busy": "2022-01-03T20:41:31.853842Z",
     "iopub.status.idle": "2022-01-03T20:41:31.859458Z",
     "shell.execute_reply": "2022-01-03T20:41:31.859025Z",
     "shell.execute_reply.started": "2022-01-03T19:57:09.867461Z"
    },
    "id": "810c9e67-ec9a-4f6e-8b2f-9e8fe48ae26f",
    "papermill": {
     "duration": 0.045387,
     "end_time": "2022-01-03T20:41:31.859568",
     "exception": false,
     "start_time": "2022-01-03T20:41:31.814181",
     "status": "completed"
    },
    "tags": []
   },
   "outputs": [],
   "source": [
    "# for dirname, _, filenames in os.walk(os.environ['DSX_PROJECT_DIR']):\n",
    "#     for filename in filenames:\n",
    "#         print(os.path.join(dirname, filename))"
   ]
  },
  {
   "cell_type": "markdown",
   "metadata": {
    "id": "3e253ff7-d9c7-4a71-8b1e-d4a8483d2b59",
    "papermill": {
     "duration": 0.035687,
     "end_time": "2022-01-03T20:41:31.933027",
     "exception": false,
     "start_time": "2022-01-03T20:41:31.897340",
     "status": "completed"
    },
    "tags": []
   },
   "source": [
    "<h3> Reading the train data </h3>"
   ]
  },
  {
   "cell_type": "code",
   "execution_count": null,
   "metadata": {
    "execution": {
     "iopub.execute_input": "2022-01-03T20:41:32.011752Z",
     "iopub.status.busy": "2022-01-03T20:41:32.011216Z",
     "iopub.status.idle": "2022-01-03T20:41:32.080855Z",
     "shell.execute_reply": "2022-01-03T20:41:32.081282Z",
     "shell.execute_reply.started": "2022-01-03T19:57:11.821491Z"
    },
    "id": "890a0c6d-b556-4f41-998e-9f9c3e4770bc",
    "papermill": {
     "duration": 0.111621,
     "end_time": "2022-01-03T20:41:32.081428",
     "exception": false,
     "start_time": "2022-01-03T20:41:31.969807",
     "status": "completed"
    },
    "tags": []
   },
   "outputs": [],
   "source": [
    "df = pd.read_csv(os.environ['DSX_PROJECT_DIR']+'/datasets/train_houses.csv')\n",
    "df"
   ]
  },
  {
   "cell_type": "markdown",
   "metadata": {
    "id": "bfb0908f-322f-47c6-8115-cd694c3e6525",
    "papermill": {
     "duration": 0.036093,
     "end_time": "2022-01-03T20:41:32.156961",
     "exception": false,
     "start_time": "2022-01-03T20:41:32.120868",
     "status": "completed"
    },
    "tags": []
   },
   "source": [
    "# Dataset Information"
   ]
  },
  {
   "cell_type": "markdown",
   "metadata": {
    "id": "fb55ff30-59d6-4c51-881d-637de7c9db94",
    "papermill": {
     "duration": 0.036301,
     "end_time": "2022-01-03T20:41:32.229623",
     "exception": false,
     "start_time": "2022-01-03T20:41:32.193322",
     "status": "completed"
    },
    "tags": []
   },
   "source": [
    "<h3> Looking at all the columns of the given data </h3>"
   ]
  },
  {
   "cell_type": "code",
   "execution_count": null,
   "metadata": {
    "execution": {
     "iopub.execute_input": "2022-01-03T20:41:32.309181Z",
     "iopub.status.busy": "2022-01-03T20:41:32.308498Z",
     "iopub.status.idle": "2022-01-03T20:41:32.311133Z",
     "shell.execute_reply": "2022-01-03T20:41:32.311533Z",
     "shell.execute_reply.started": "2022-01-03T19:57:13.754576Z"
    },
    "id": "572d9899-d5f8-4da7-9f4b-61e439f9bdfd",
    "papermill": {
     "duration": 0.04514,
     "end_time": "2022-01-03T20:41:32.311663",
     "exception": false,
     "start_time": "2022-01-03T20:41:32.266523",
     "status": "completed"
    },
    "tags": []
   },
   "outputs": [],
   "source": [
    "df.columns"
   ]
  },
  {
   "cell_type": "markdown",
   "metadata": {
    "id": "ac79eb0b-dd1e-4fa8-89b8-c915938b1199",
    "papermill": {
     "duration": 0.036406,
     "end_time": "2022-01-03T20:41:32.384888",
     "exception": false,
     "start_time": "2022-01-03T20:41:32.348482",
     "status": "completed"
    },
    "tags": []
   },
   "source": [
    "<h3> Identifying the shape of the given dataframe (Rows X Columns)</h3>"
   ]
  },
  {
   "cell_type": "code",
   "execution_count": null,
   "metadata": {
    "execution": {
     "iopub.execute_input": "2022-01-03T20:41:32.465145Z",
     "iopub.status.busy": "2022-01-03T20:41:32.463983Z",
     "iopub.status.idle": "2022-01-03T20:41:32.467407Z",
     "shell.execute_reply": "2022-01-03T20:41:32.467861Z",
     "shell.execute_reply.started": "2022-01-03T19:57:14.756270Z"
    },
    "id": "90b0abbe-0d10-4932-b230-cf40906f0747",
    "papermill": {
     "duration": 0.046473,
     "end_time": "2022-01-03T20:41:32.468023",
     "exception": false,
     "start_time": "2022-01-03T20:41:32.421550",
     "status": "completed"
    },
    "tags": []
   },
   "outputs": [],
   "source": [
    "df.shape"
   ]
  },
  {
   "cell_type": "markdown",
   "metadata": {
    "id": "621de55f-c7d4-4482-80f5-8a42456ef3ed",
    "papermill": {
     "duration": 0.037123,
     "end_time": "2022-01-03T20:41:32.541509",
     "exception": false,
     "start_time": "2022-01-03T20:41:32.504386",
     "status": "completed"
    },
    "tags": []
   },
   "source": [
    "<h3>Printing the following information about our dataset:</h3>\n",
    "<ul>\n",
    "    <li>Column Name</li>\n",
    "    <li>Count of the non-null data</li>\n",
    "    <li>Datatype of that column</li>\n",
    "</ul>"
   ]
  },
  {
   "cell_type": "code",
   "execution_count": null,
   "metadata": {
    "execution": {
     "iopub.execute_input": "2022-01-03T20:41:32.627238Z",
     "iopub.status.busy": "2022-01-03T20:41:32.626453Z",
     "iopub.status.idle": "2022-01-03T20:41:32.648118Z",
     "shell.execute_reply": "2022-01-03T20:41:32.648636Z",
     "shell.execute_reply.started": "2022-01-03T19:57:15.648735Z"
    },
    "id": "5fb32cc3-a747-4022-aa3e-573d02a3f46e",
    "papermill": {
     "duration": 0.070313,
     "end_time": "2022-01-03T20:41:32.648795",
     "exception": false,
     "start_time": "2022-01-03T20:41:32.578482",
     "status": "completed"
    },
    "tags": []
   },
   "outputs": [],
   "source": [
    "df.info()"
   ]
  },
  {
   "cell_type": "markdown",
   "metadata": {
    "id": "85cd04a9-1a4e-4d7c-8724-a664a5d8fdf8",
    "papermill": {
     "duration": 0.036445,
     "end_time": "2022-01-03T20:41:32.726762",
     "exception": false,
     "start_time": "2022-01-03T20:41:32.690317",
     "status": "completed"
    },
    "tags": []
   },
   "source": [
    "<h3>Printing the statistical summary of our dataset such as:</h3>\n",
    "<ul>\n",
    "    <li>Count</li>\n",
    "    <li>Mean</li>\n",
    "    <li>Standard Deviation</li>\n",
    "    <li>Minimum</li>\n",
    "    <li>25<sup>th</sup> Percentile</li>\n",
    "    <li>50<sup>th</sup> Percentile</li>\n",
    "    <li>75<sup>th</sup> Percentile</li>\n",
    "    <li>Maximum</li>     \n",
    "</ul>"
   ]
  },
  {
   "cell_type": "code",
   "execution_count": null,
   "metadata": {
    "execution": {
     "iopub.execute_input": "2022-01-03T20:41:32.807081Z",
     "iopub.status.busy": "2022-01-03T20:41:32.805479Z",
     "iopub.status.idle": "2022-01-03T20:41:32.919187Z",
     "shell.execute_reply": "2022-01-03T20:41:32.919930Z",
     "shell.execute_reply.started": "2022-01-03T19:57:16.595894Z"
    },
    "id": "5f2d10d9-70e8-436c-a4a8-8131f5e98699",
    "papermill": {
     "duration": 0.156581,
     "end_time": "2022-01-03T20:41:32.920169",
     "exception": false,
     "start_time": "2022-01-03T20:41:32.763588",
     "status": "completed"
    },
    "tags": []
   },
   "outputs": [],
   "source": [
    "df.describe()"
   ]
  },
  {
   "cell_type": "markdown",
   "metadata": {
    "id": "272c4969-21a8-44ae-97ca-297de79ffbcb",
    "papermill": {
     "duration": 0.060024,
     "end_time": "2022-01-03T20:41:33.047037",
     "exception": false,
     "start_time": "2022-01-03T20:41:32.987013",
     "status": "completed"
    },
    "tags": []
   },
   "source": [
    "# Identifying Correlations in the Data"
   ]
  },
  {
   "cell_type": "code",
   "execution_count": null,
   "metadata": {
    "execution": {
     "iopub.execute_input": "2022-01-03T20:41:33.175743Z",
     "iopub.status.busy": "2022-01-03T20:41:33.174958Z",
     "iopub.status.idle": "2022-01-03T20:41:39.906564Z",
     "shell.execute_reply": "2022-01-03T20:41:39.906978Z",
     "shell.execute_reply.started": "2022-01-03T19:57:17.660987Z"
    },
    "id": "e1872bb7-1b18-44b3-8336-656e3ed03e66",
    "papermill": {
     "duration": 6.801126,
     "end_time": "2022-01-03T20:41:39.907124",
     "exception": false,
     "start_time": "2022-01-03T20:41:33.105998",
     "status": "completed"
    },
    "tags": []
   },
   "outputs": [],
   "source": [
    "plt.figure(figsize = (30, 30))\n",
    "sns.heatmap(df.corr(), cmap = 'Blues', square = True, annot = True)\n",
    "plt.title(\"Visualizing Correlations\", size = 30)\n",
    "plt.show()"
   ]
  },
  {
   "cell_type": "markdown",
   "metadata": {
    "id": "961f9a42-f3ff-445d-9ad7-736d1e8e6988",
    "papermill": {
     "duration": 0.054688,
     "end_time": "2022-01-03T20:41:40.016571",
     "exception": false,
     "start_time": "2022-01-03T20:41:39.961883",
     "status": "completed"
    },
    "tags": []
   },
   "source": [
    "# Selecting Numeric Features\n",
    "The numerical features with more than a <b>0.50</b> correlation rate with SalePrice have been selected."
   ]
  },
  {
   "cell_type": "code",
   "execution_count": null,
   "metadata": {
    "execution": {
     "iopub.execute_input": "2022-01-03T20:41:40.135373Z",
     "iopub.status.busy": "2022-01-03T20:41:40.134645Z",
     "iopub.status.idle": "2022-01-03T20:41:40.139106Z",
     "shell.execute_reply": "2022-01-03T20:41:40.138592Z",
     "shell.execute_reply.started": "2022-01-03T19:57:23.178850Z"
    },
    "id": "1c673701-9413-4cdc-9cf1-737f9c56c80e",
    "papermill": {
     "duration": 0.067242,
     "end_time": "2022-01-03T20:41:40.139236",
     "exception": false,
     "start_time": "2022-01-03T20:41:40.071994",
     "status": "completed"
    },
    "tags": []
   },
   "outputs": [],
   "source": [
    "num_cols = ['OverallQual', 'YearBuilt', 'YearRemodAdd', 'TotalBsmtSF', '1stFlrSF', 'GrLivArea', 'FullBath', 'TotRmsAbvGrd', 'GarageCars', 'GarageArea']\n",
    "df_num_cols = df[num_cols]\n",
    "df_num_cols.isnull().sum()"
   ]
  },
  {
   "cell_type": "markdown",
   "metadata": {
    "id": "ee470287-4f82-4b07-84b1-acd3778c7e00",
    "papermill": {
     "duration": 0.054192,
     "end_time": "2022-01-03T20:41:40.248581",
     "exception": false,
     "start_time": "2022-01-03T20:41:40.194389",
     "status": "completed"
    },
    "tags": []
   },
   "source": [
    "<h3>Creating a pair plot to identify trends and relations in the data</h3>"
   ]
  },
  {
   "cell_type": "code",
   "execution_count": null,
   "metadata": {
    "execution": {
     "iopub.execute_input": "2022-01-03T20:41:40.364710Z",
     "iopub.status.busy": "2022-01-03T20:41:40.364141Z",
     "iopub.status.idle": "2022-01-03T20:41:57.953300Z",
     "shell.execute_reply": "2022-01-03T20:41:57.953745Z",
     "shell.execute_reply.started": "2022-01-03T19:57:23.192957Z"
    },
    "id": "0151bbab-2632-447c-ac2f-953a2f4a185e",
    "papermill": {
     "duration": 17.650285,
     "end_time": "2022-01-03T20:41:57.953907",
     "exception": false,
     "start_time": "2022-01-03T20:41:40.303622",
     "status": "completed"
    },
    "tags": []
   },
   "outputs": [],
   "source": [
    "sns.pairplot(df[num_cols])\n",
    "plt.show()"
   ]
  },
  {
   "cell_type": "markdown",
   "metadata": {
    "id": "845a0080-6556-475e-aeed-73d91b416121",
    "papermill": {
     "duration": 0.076005,
     "end_time": "2022-01-03T20:41:58.107327",
     "exception": false,
     "start_time": "2022-01-03T20:41:58.031322",
     "status": "completed"
    },
    "tags": []
   },
   "source": [
    "<h3>Looking at the non-numeric features of our dataset</h3>"
   ]
  },
  {
   "cell_type": "code",
   "execution_count": null,
   "metadata": {
    "execution": {
     "iopub.execute_input": "2022-01-03T20:41:58.273200Z",
     "iopub.status.busy": "2022-01-03T20:41:58.271894Z",
     "iopub.status.idle": "2022-01-03T20:41:58.279025Z",
     "shell.execute_reply": "2022-01-03T20:41:58.279585Z",
     "shell.execute_reply.started": "2022-01-03T19:57:39.598726Z"
    },
    "id": "9e6252b8-5df5-4671-94cb-94d6b307ece3",
    "papermill": {
     "duration": 0.098367,
     "end_time": "2022-01-03T20:41:58.279757",
     "exception": false,
     "start_time": "2022-01-03T20:41:58.181390",
     "status": "completed"
    },
    "tags": []
   },
   "outputs": [],
   "source": [
    "df_nn = df.select_dtypes(include = ['O'])\n",
    "nn_list = df_nn.columns.tolist()\n",
    "print(\"There are\", format(len(df_nn.columns)), \"non numerical features in the dataset\\n\\nThe non numerical features are:\\n\", df_nn.columns.tolist(), \"\\n\\nCounting the number of NA values for our non numeric data\")\n",
    "df_nn.isna().sum()"
   ]
  },
  {
   "cell_type": "markdown",
   "metadata": {
    "id": "18690c9c-56de-4c38-89c9-758f212d7bf2",
    "papermill": {
     "duration": 0.077572,
     "end_time": "2022-01-03T20:41:58.433620",
     "exception": false,
     "start_time": "2022-01-03T20:41:58.356048",
     "status": "completed"
    },
    "tags": []
   },
   "source": [
    "# Visualize the Count of the Categorical Data"
   ]
  },
  {
   "cell_type": "code",
   "execution_count": null,
   "metadata": {
    "execution": {
     "iopub.execute_input": "2022-01-03T20:41:58.591972Z",
     "iopub.status.busy": "2022-01-03T20:41:58.591170Z",
     "iopub.status.idle": "2022-01-03T20:41:59.858961Z",
     "shell.execute_reply": "2022-01-03T20:41:59.859616Z",
     "shell.execute_reply.started": "2022-01-03T19:57:39.624019Z"
    },
    "id": "8d5e5f46-3a41-4817-82c2-db0cda520337",
    "papermill": {
     "duration": 1.350296,
     "end_time": "2022-01-03T20:41:59.859775",
     "exception": false,
     "start_time": "2022-01-03T20:41:58.509479",
     "status": "completed"
    },
    "tags": []
   },
   "outputs": [],
   "source": [
    "cat_cols = ['MSZoning', 'BldgType', 'ExterQual', 'CentralAir', 'KitchenQual', 'SaleCondition']\n",
    "\n",
    "df_cat_cols = df[cat_cols]\n",
    "\n",
    "sns.countplot(x = df_cat_cols['MSZoning'], data = df_cat_cols)\n",
    "plt.show()\n",
    "\n",
    "sns.countplot(x = df_cat_cols['BldgType'], data = df_cat_cols)\n",
    "plt.show()\n",
    "\n",
    "sns.countplot(x = df_cat_cols['ExterQual'], data = df_cat_cols)\n",
    "plt.show()\n",
    "\n",
    "sns.countplot(x = df_cat_cols['CentralAir'], data = df_cat_cols)\n",
    "plt.show()\n",
    "\n",
    "sns.countplot(x = df_cat_cols['KitchenQual'], data = df_cat_cols)\n",
    "plt.show()\n",
    "\n",
    "sns.countplot(x = df_cat_cols['SaleCondition'], data = df_cat_cols)\n",
    "plt.show()"
   ]
  },
  {
   "cell_type": "markdown",
   "metadata": {
    "id": "72c7fa18-d5a6-48bd-96ac-1cfa65498dc4",
    "papermill": {
     "duration": 0.078971,
     "end_time": "2022-01-03T20:42:00.017933",
     "exception": false,
     "start_time": "2022-01-03T20:41:59.938962",
     "status": "completed"
    },
    "tags": []
   },
   "source": [
    "# Final Features Selected"
   ]
  },
  {
   "cell_type": "code",
   "execution_count": null,
   "metadata": {
    "execution": {
     "iopub.execute_input": "2022-01-03T20:42:00.182425Z",
     "iopub.status.busy": "2022-01-03T20:42:00.181793Z",
     "iopub.status.idle": "2022-01-03T20:42:00.184721Z",
     "shell.execute_reply": "2022-01-03T20:42:00.185134Z",
     "shell.execute_reply.started": "2022-01-03T19:57:40.833462Z"
    },
    "id": "bc437539-e655-4ff9-8c37-534029ad72b5",
    "papermill": {
     "duration": 0.087207,
     "end_time": "2022-01-03T20:42:00.185268",
     "exception": false,
     "start_time": "2022-01-03T20:42:00.098061",
     "status": "completed"
    },
    "tags": []
   },
   "outputs": [],
   "source": [
    "final_features = list(num_cols + cat_cols)\n",
    "print(final_features)"
   ]
  },
  {
   "cell_type": "markdown",
   "metadata": {
    "id": "2e0a4b14-a8fd-4418-8660-496715c5380f",
    "papermill": {
     "duration": 0.07972,
     "end_time": "2022-01-03T20:42:00.342293",
     "exception": false,
     "start_time": "2022-01-03T20:42:00.262573",
     "status": "completed"
    },
    "tags": []
   },
   "source": [
    "<h3>Final dataset used with only the selected features"
   ]
  },
  {
   "cell_type": "code",
   "execution_count": null,
   "metadata": {
    "execution": {
     "iopub.execute_input": "2022-01-03T20:42:00.523608Z",
     "iopub.status.busy": "2022-01-03T20:42:00.522630Z",
     "iopub.status.idle": "2022-01-03T20:42:00.525933Z",
     "shell.execute_reply": "2022-01-03T20:42:00.526356Z",
     "shell.execute_reply.started": "2022-01-03T19:57:40.841246Z"
    },
    "id": "5daf2857-dcf5-4ff4-ac3e-10bb6b42c8bc",
    "papermill": {
     "duration": 0.103917,
     "end_time": "2022-01-03T20:42:00.526498",
     "exception": false,
     "start_time": "2022-01-03T20:42:00.422581",
     "status": "completed"
    },
    "tags": []
   },
   "outputs": [],
   "source": [
    "df = df[final_features + ['SalePrice']]\n",
    "df"
   ]
  },
  {
   "cell_type": "markdown",
   "metadata": {
    "id": "08a0bb71-fe20-41d0-90b6-55222b5c8dfc",
    "papermill": {
     "duration": 0.080374,
     "end_time": "2022-01-03T20:42:00.686102",
     "exception": false,
     "start_time": "2022-01-03T20:42:00.605728",
     "status": "completed"
    },
    "tags": []
   },
   "source": [
    "# Encoding the Categorical Data\n",
    "The categorical data can be encoded using Label Encoder. It encodes labels with a value between 0 and n_classes-1 where n is the number of distinct labels. If a label repeats it assigns the same value as assigned earlier. The categorical values can be converted into numeric values."
   ]
  },
  {
   "cell_type": "code",
   "execution_count": null,
   "metadata": {
    "execution": {
     "iopub.execute_input": "2022-01-03T20:42:00.856574Z",
     "iopub.status.busy": "2022-01-03T20:42:00.855652Z",
     "iopub.status.idle": "2022-01-03T20:42:00.881829Z",
     "shell.execute_reply": "2022-01-03T20:42:00.882271Z",
     "shell.execute_reply.started": "2022-01-03T19:57:40.866596Z"
    },
    "id": "41264ba0-cc88-44b3-83ac-1a4b1df03411",
    "papermill": {
     "duration": 0.115894,
     "end_time": "2022-01-03T20:42:00.882430",
     "exception": false,
     "start_time": "2022-01-03T20:42:00.766536",
     "status": "completed"
    },
    "tags": []
   },
   "outputs": [],
   "source": [
    "label_encoder = LabelEncoder()\n",
    "df[cat_cols] = df[cat_cols].apply(label_encoder.fit_transform)\n",
    "df"
   ]
  },
  {
   "cell_type": "markdown",
   "metadata": {
    "id": "35f87ce7-712a-464b-84c5-40b47a5b1a4b",
    "papermill": {
     "duration": 0.081663,
     "end_time": "2022-01-03T20:42:01.043818",
     "exception": false,
     "start_time": "2022-01-03T20:42:00.962155",
     "status": "completed"
    },
    "tags": []
   },
   "source": [
    "<h3>Assigning features to X and the labels to y</h3>"
   ]
  },
  {
   "cell_type": "code",
   "execution_count": null,
   "metadata": {
    "execution": {
     "iopub.execute_input": "2022-01-03T20:42:01.225834Z",
     "iopub.status.busy": "2022-01-03T20:42:01.213950Z",
     "iopub.status.idle": "2022-01-03T20:42:01.228516Z",
     "shell.execute_reply": "2022-01-03T20:42:01.228940Z",
     "shell.execute_reply.started": "2022-01-03T19:57:40.893172Z"
    },
    "id": "820d2ba8-8f7a-4ccd-a80a-c50adbaeef8c",
    "papermill": {
     "duration": 0.10386,
     "end_time": "2022-01-03T20:42:01.229088",
     "exception": false,
     "start_time": "2022-01-03T20:42:01.125228",
     "status": "completed"
    },
    "tags": []
   },
   "outputs": [],
   "source": [
    "X = df.drop(['SalePrice'], axis = 1)\n",
    "y = df['SalePrice']\n",
    "X.head()"
   ]
  },
  {
   "cell_type": "code",
   "execution_count": null,
   "metadata": {
    "id": "ea14b6560be146aba297ef09aa45a63e"
   },
   "outputs": [],
   "source": [
    "y.head()"
   ]
  },
  {
   "cell_type": "markdown",
   "metadata": {
    "id": "27962140-8927-49e2-b7fa-dba743cc3a48",
    "papermill": {
     "duration": 0.082459,
     "end_time": "2022-01-03T20:42:01.394042",
     "exception": false,
     "start_time": "2022-01-03T20:42:01.311583",
     "status": "completed"
    },
    "tags": []
   },
   "source": [
    "# Scaling the Data\n",
    "StandardScaler standardizes a feature by subtracting the mean and then scaling it to unit variance.\n",
    "<h3>Formula</h3>\n",
    "<div style=\"width:100%;text-align: center;\"><img align = left src=\"https://cdn-images-1.medium.com/max/800/0*vQEjz0mvylP--30Q.GIF\" style=\"height:300px;\"></div>"
   ]
  },
  {
   "cell_type": "code",
   "execution_count": null,
   "metadata": {
    "id": "161f21e115884de688041bb9f8725b76"
   },
   "outputs": [],
   "source": [
    "scaler = StandardScaler()\n",
    "X_scaled = scaler.fit_transform(X)\n",
    "X = pd.DataFrame(X_scaled, index=X.index, columns=X.columns)\n",
    "print(X, \"\\n\\n\\n\", \"The shape of X is:\", X.shape)\n",
    "print(\"\\n\", y, \"\\n\\n\\n\", \"The shape of y is:\", y.shape)"
   ]
  },
  {
   "cell_type": "markdown",
   "metadata": {
    "execution": {
     "iopub.execute_input": "2022-01-03T14:38:49.607865Z",
     "iopub.status.busy": "2022-01-03T14:38:49.607548Z",
     "iopub.status.idle": "2022-01-03T14:38:49.614444Z",
     "shell.execute_reply": "2022-01-03T14:38:49.613845Z",
     "shell.execute_reply.started": "2022-01-03T14:38:49.607832Z"
    },
    "id": "d8932edd-8d6c-4fa5-bed3-6d7dcd5a349f",
    "papermill": {
     "duration": 0.080369,
     "end_time": "2022-01-03T20:42:01.732935",
     "exception": false,
     "start_time": "2022-01-03T20:42:01.652566",
     "status": "completed"
    },
    "tags": []
   },
   "source": [
    "# Splitting the Data Into Training and Testing Sets"
   ]
  },
  {
   "cell_type": "code",
   "execution_count": null,
   "metadata": {
    "id": "7c9890c5e91b4c6b838c687f13f80595"
   },
   "outputs": [],
   "source": [
    "ratio_train = 0.8\n",
    "ratio_val = 0.1\n",
    "ratio_test = 0.1\n",
    "\n",
    "# produces test split.\n",
    "x_remaining, X_test, y_remaining, y_test = train_test_split(X, y, test_size=ratio_test, random_state=0)\n",
    "\n",
    "# adjusts val ratio, w.r.t. remaining dataset.\n",
    "ratio_remaining = 1 - ratio_test\n",
    "ratio_val_adjusted = ratio_val / ratio_remaining\n",
    "\n",
    "# produces train and val splits.\n",
    "X_train, X_val, y_train, y_val = train_test_split(x_remaining, y_remaining, test_size=ratio_val_adjusted, random_state=0)"
   ]
  },
  {
   "cell_type": "markdown",
   "metadata": {
    "id": "68e0a4da-19ce-4a9a-9f1d-6debe7302f5f",
    "papermill": {
     "duration": 0.084956,
     "end_time": "2022-01-03T20:42:02.077783",
     "exception": false,
     "start_time": "2022-01-03T20:42:01.992827",
     "status": "completed"
    },
    "tags": []
   },
   "source": [
    "# Linear Regression\n",
    "\n",
    "<h4>What is linear regression ?</h4>\n",
    "\n",
    "It is a statistical method that is used for predictive analysis. There are 2 types:\n",
    "- Simple Linear Regression\n",
    "- Multiple Linear Regression\n",
    "\n",
    "<h4>Simple Linear Regression</h4>\n",
    "\n",
    "Simple linear regression is a regression model that estimates the relationship between one independent variable and one dependent variable using a straight line.\n",
    "\n",
    "<h4>Formulae for simple linear regression</h4>\n",
    "<div style=\"width:100%;text-align: center;\"><img align = left src=\"https://miro.medium.com/max/960/1*jt-pyQQ7bgL2lyganse0nQ.png\" style=\"height:300px;\"></div>\n",
    "<div style=\"width:100%;text-align: left;\"><img align = left src=\"https://miro.medium.com/max/952/1*RMGN1iWcl7l8iDy9Vk6HGg.png\" style=\"height:300px;\"></div>"
   ]
  },
  {
   "cell_type": "markdown",
   "metadata": {
    "id": "66b97f16-046f-4863-b8fa-e880a80063b6",
    "papermill": {
     "duration": 0.080439,
     "end_time": "2022-01-03T20:42:02.240205",
     "exception": false,
     "start_time": "2022-01-03T20:42:02.159766",
     "status": "completed"
    },
    "tags": []
   },
   "source": [
    "<h4>Multiple Linear Regression</h4>\n",
    "\n",
    "For our dataset since there are many features we are using multiple linear regression.\n",
    "\n",
    "Multiple linear regression is used to estimate the relationship between two or more independent variables and one dependent variable.\n",
    "\n",
    "<h4>Formula</h4>\n",
    "<div style=\"width:100%;text-align: center;\"><img align = left src=\"https://csharpcorner-mindcrackerinc.netdna-ssl.com/article/linear-regression2/Images/f_MLR.png\" style=\"height:300px;\"></div>"
   ]
  },
  {
   "cell_type": "code",
   "execution_count": null,
   "metadata": {
    "execution": {
     "iopub.execute_input": "2022-01-03T20:42:02.410463Z",
     "iopub.status.busy": "2022-01-03T20:42:02.409691Z",
     "iopub.status.idle": "2022-01-03T20:42:02.422525Z",
     "shell.execute_reply": "2022-01-03T20:42:02.423250Z",
     "shell.execute_reply.started": "2022-01-03T19:57:40.938785Z"
    },
    "id": "9840d32e-32a0-4f5c-b576-3bd1b4d0c042",
    "papermill": {
     "duration": 0.100937,
     "end_time": "2022-01-03T20:42:02.423479",
     "exception": false,
     "start_time": "2022-01-03T20:42:02.322542",
     "status": "completed"
    },
    "tags": []
   },
   "outputs": [],
   "source": [
    "lin_reg = LinearRegression(n_jobs = -1)\n",
    "lin_reg.fit(X_train, y_train)\n",
    "y_pred = lin_reg.predict(X_test)\n",
    "rmse_lin_reg = np.sqrt(mean_squared_error(y_test, y_pred))\n",
    "print(\"The Root Mean Squared Error for Linear Regression is:\", rmse_lin_reg)\n",
    "print(\"Linear Regression Score is:\", lin_reg.score(X_test, y_test) * 100, \"%\")"
   ]
  },
  {
   "cell_type": "markdown",
   "metadata": {
    "id": "9be904b3-8a50-4521-9ebd-a0cefb79a478",
    "papermill": {
     "duration": 0.081385,
     "end_time": "2022-01-03T20:42:02.650248",
     "exception": false,
     "start_time": "2022-01-03T20:42:02.568863",
     "status": "completed"
    },
    "tags": []
   },
   "source": [
    "# What is GridSearchCV ?\n",
    "It is a library function that helps you loop through pre-defined hyperparameters and fits your model with the best ones. \n",
    "\n",
    "<h3>Advantage</h3>\n",
    "GridSearchCV tries all the combinations of the values passed in the dictionary and evaluates the model for each combination using the Cross-Validation method.\n",
    "\n",
    "<h3>Disadvantage</h3>\n",
    "<span>It is very time consuming.\n",
    "\n",
    "<div style=\"width:100%;text-align: center;\"><img align = \"left\" src=\"https://c.tenor.com/hHMlCXdEfbEAAAAC/laptop-breaking.gif\" style=\"height:300px;\"></div>"
   ]
  },
  {
   "cell_type": "markdown",
   "metadata": {
    "id": "2d95c429-5f9d-473d-9e80-351d0189d364",
    "papermill": {
     "duration": 0.081864,
     "end_time": "2022-01-03T20:42:02.814042",
     "exception": false,
     "start_time": "2022-01-03T20:42:02.732178",
     "status": "completed"
    },
    "tags": []
   },
   "source": [
    "# Ridge Regression\n",
    "Ridge regression is a model tuning method that is used to analyse any data that suffers from multicollinearity. "
   ]
  },
  {
   "cell_type": "code",
   "execution_count": null,
   "metadata": {
    "execution": {
     "iopub.execute_input": "2022-01-03T20:42:02.985189Z",
     "iopub.status.busy": "2022-01-03T20:42:02.984312Z",
     "iopub.status.idle": "2022-01-03T20:42:03.274279Z",
     "shell.execute_reply": "2022-01-03T20:42:03.273200Z",
     "shell.execute_reply.started": "2022-01-03T19:18:19.215899Z"
    },
    "id": "fbb629f7-1951-46ae-af4c-83b31945bc86",
    "papermill": {
     "duration": 0.379413,
     "end_time": "2022-01-03T20:42:03.274507",
     "exception": false,
     "start_time": "2022-01-03T20:42:02.895094",
     "status": "completed"
    },
    "tags": []
   },
   "outputs": [],
   "source": [
    "ridge = Ridge()\n",
    "param_grid = {'alpha': [0.001, 0.01, 0.02, 0.03, 0.04, 0.05, 0.06, 0.07, 0.08, 1, 2, 3, 5, 8, 10, 20, 50, 100]}\n",
    "grid_search_ridge = GridSearchCV(ridge, param_grid, cv = 5)\n",
    "grid_search_ridge.fit(X_train, y_train)\n",
    "y_pred = grid_search_ridge.predict(X_test)\n",
    "rmse_ridge_reg = np.sqrt(mean_squared_error(y_test, y_pred))\n",
    "print(\"The Root Mean Squared Error for Ridge Regression is:\", rmse_ridge_reg)\n",
    "print(\"Ridge Regression Score is:\", grid_search_ridge.score(X_test, y_test) * 100, \"%\")"
   ]
  },
  {
   "cell_type": "markdown",
   "metadata": {
    "id": "03cc8091-96ea-47b9-ba7d-82f23e24d9fd",
    "papermill": {
     "duration": 0.089242,
     "end_time": "2022-01-03T20:42:03.511545",
     "exception": false,
     "start_time": "2022-01-03T20:42:03.422303",
     "status": "completed"
    },
    "tags": []
   },
   "source": [
    "# Lasso Regression\n",
    "LASSO stands for Least Absolute Shrinkage and Selection Operator. It is a regression analysis method that performs both variable selection and regularization in order to enhance the prediction accuracy and interpretability of the resulting statistical model."
   ]
  },
  {
   "cell_type": "code",
   "execution_count": null,
   "metadata": {
    "execution": {
     "iopub.execute_input": "2022-01-03T20:42:03.683174Z",
     "iopub.status.busy": "2022-01-03T20:42:03.682296Z",
     "iopub.status.idle": "2022-01-03T20:42:04.027273Z",
     "shell.execute_reply": "2022-01-03T20:42:04.028010Z",
     "shell.execute_reply.started": "2022-01-03T19:18:21.209439Z"
    },
    "id": "56de9aff-1f35-4a4e-9205-a3ecfe0cf52c",
    "papermill": {
     "duration": 0.434359,
     "end_time": "2022-01-03T20:42:04.028247",
     "exception": false,
     "start_time": "2022-01-03T20:42:03.593888",
     "status": "completed"
    },
    "tags": []
   },
   "outputs": [],
   "source": [
    "lasso = Lasso()\n",
    "param_grid = {'alpha': [0.001, 0.01, 0.02, 0.03, 0.04, 0.05, 0.06, 0.07, 0.08, 1, 2, 3, 5, 8, 10, 20, 50, 100]}\n",
    "grid_search_las = GridSearchCV(lasso, param_grid, cv = 5)\n",
    "grid_search_las.fit(X_train, y_train)\n",
    "y_pred = grid_search_las.predict(X_test)\n",
    "rmse_las_reg = np.sqrt(mean_squared_error(y_test, y_pred))\n",
    "print(\"The Root Mean Squared Error for Lasso Regression is:\", rmse_las_reg)\n",
    "print(\"Lasso Regression Score is:\", grid_search_las.score(X_test, y_test) * 100, \"%\")"
   ]
  },
  {
   "cell_type": "markdown",
   "metadata": {
    "id": "5eba1742-1ed0-4762-8d68-c2e9572c45ef",
    "papermill": {
     "duration": 0.082619,
     "end_time": "2022-01-03T20:42:04.261842",
     "exception": false,
     "start_time": "2022-01-03T20:42:04.179223",
     "status": "completed"
    },
    "tags": []
   },
   "source": [
    "# Elastic Net\n",
    "Elastic net is a penalized linear regression model that includes both the L1 and L2 penalties during training."
   ]
  },
  {
   "cell_type": "code",
   "execution_count": null,
   "metadata": {
    "execution": {
     "iopub.execute_input": "2022-01-03T20:42:04.439262Z",
     "iopub.status.busy": "2022-01-03T20:42:04.438674Z",
     "iopub.status.idle": "2022-01-03T20:42:10.362123Z",
     "shell.execute_reply": "2022-01-03T20:42:10.363019Z",
     "shell.execute_reply.started": "2022-01-03T19:18:29.657381Z"
    },
    "id": "bcb186bd-430b-4632-b8d4-4db5c43c8744",
    "papermill": {
     "duration": 6.01917,
     "end_time": "2022-01-03T20:42:10.363236",
     "exception": false,
     "start_time": "2022-01-03T20:42:04.344066",
     "status": "completed"
    },
    "tags": []
   },
   "outputs": [],
   "source": [
    "el_net = ElasticNet()\n",
    "param_grid = {'alpha': [0.001, 0.01, 0.02, 0.03, 0.04, 0.05, 0.06, 0.07, 0.08, 1, 2, 3, 5, 8, 10, 20, 50, 100],\n",
    "             'l1_ratio': np.arange(0.0, 1.0, 0.1)}\n",
    "grid_search_el_net = GridSearchCV(el_net, param_grid, cv = 5)\n",
    "grid_search_el_net.fit(X_train, y_train)\n",
    "y_pred = grid_search_el_net.predict(X_test)\n",
    "rmse_el_net = np.sqrt(mean_squared_error(y_test, y_pred))\n",
    "print(\"The Root Mean Squared Error for Elastic Net is:\", rmse_el_net)\n",
    "print(\"Elastic Net Score is:\", grid_search_el_net.score(X_test, y_test) * 100, \"%\")"
   ]
  },
  {
   "cell_type": "markdown",
   "metadata": {
    "id": "71b3f717-9827-443e-9fd6-028a6bdcbafc",
    "papermill": {
     "duration": 0.155134,
     "end_time": "2022-01-03T20:42:10.734700",
     "exception": false,
     "start_time": "2022-01-03T20:42:10.579566",
     "status": "completed"
    },
    "tags": []
   },
   "source": [
    "# Support Vector Regression\n",
    "Support Vector Regression is a supervised machine learning algorithm. The basic idea behind SVR is to find the best fit line. In SVR, the best fit line is the hyperplane that has the maximum number of points."
   ]
  },
  {
   "cell_type": "code",
   "execution_count": null,
   "metadata": {
    "execution": {
     "iopub.execute_input": "2022-01-03T20:42:11.023504Z",
     "iopub.status.busy": "2022-01-03T20:42:11.018501Z",
     "iopub.status.idle": "2022-01-03T20:42:41.852423Z",
     "shell.execute_reply": "2022-01-03T20:42:41.853152Z",
     "shell.execute_reply.started": "2022-01-03T19:18:34.919399Z"
    },
    "id": "8c1e5845-bc44-4d86-93e5-58e954fb87da",
    "papermill": {
     "duration": 30.958629,
     "end_time": "2022-01-03T20:42:41.853366",
     "exception": false,
     "start_time": "2022-01-03T20:42:10.894737",
     "status": "completed"
    },
    "tags": []
   },
   "outputs": [],
   "source": [
    "svr = SVR()\n",
    "param_grid = {'kernel': ['linear', 'poly', 'rbf', 'sigmoid'], \n",
    "              'gamma': ['scale', 'auto'],\n",
    "              'C': [1, 10, 100],\n",
    "              'epsilon': [0.01, 0.1, 1, 10]}\n",
    "grid_search_svr = GridSearchCV(svr, param_grid, cv = 5)\n",
    "grid_search_svr.fit(X_train, y_train)\n",
    "y_pred = grid_search_svr.predict(X_test)\n",
    "rmse_svr = np.sqrt(mean_squared_error(y_test, y_pred))\n",
    "print(\"The Root Mean Squared Error for Support Vector Regressor is:\", rmse_svr)\n",
    "print(\"SVR Score is:\", grid_search_svr.score(X_test, y_test) * 100, \"%\")"
   ]
  },
  {
   "cell_type": "markdown",
   "metadata": {
    "id": "38843d62-2a67-45b8-83f1-5eca297aac35",
    "papermill": {
     "duration": 0.081996,
     "end_time": "2022-01-03T20:42:42.019770",
     "exception": false,
     "start_time": "2022-01-03T20:42:41.937774",
     "status": "completed"
    },
    "tags": []
   },
   "source": [
    "# Decision Tree Regressor\n",
    "It is a supervised machine learning algorithm. It breaks down a dataset into smaller and smaller subsets while at the same time an associated decision tree is incrementally developed. The final result is a tree with decision nodes and leaf nodes.\n",
    "Decision trees regressors normally use mean squared error (MSE) to decide to split a node in two or more sub-nodes.\n",
    "<div style=\"width:100%;text-align: center;\"><img align = \"left\" src=\"https://gdcoder.com/content/images/2019/05/Screen-Shot-2019-05-18-at-03.40.41.png\" style=\"height:300px;\"></div>\n"
   ]
  },
  {
   "cell_type": "code",
   "execution_count": null,
   "metadata": {
    "execution": {
     "iopub.execute_input": "2022-01-03T20:42:42.195016Z",
     "iopub.status.busy": "2022-01-03T20:42:42.193241Z",
     "iopub.status.idle": "2022-01-03T20:43:17.403679Z",
     "shell.execute_reply": "2022-01-03T20:43:17.404340Z",
     "shell.execute_reply.started": "2022-01-03T19:19:08.075661Z"
    },
    "id": "87b460d0-3532-4bab-b576-1e05cb53fb13",
    "papermill": {
     "duration": 35.302511,
     "end_time": "2022-01-03T20:43:17.404572",
     "exception": false,
     "start_time": "2022-01-03T20:42:42.102061",
     "status": "completed"
    },
    "tags": []
   },
   "outputs": [],
   "source": [
    "dtr = DecisionTreeRegressor(random_state = 0)\n",
    "param_grid = {'max_depth': list(range(2, 10)),\n",
    "              'splitter': ['best', 'random'],\n",
    "              'min_samples_leaf': list(range(1, 10)),\n",
    "              'max_leaf_nodes': list(range(5, 20))}\n",
    "grid_search_dtr = GridSearchCV(dtr, param_grid, cv = 5)\n",
    "grid_search_dtr.fit(X_train, y_train)\n",
    "y_pred = grid_search_dtr.predict(X_test)\n",
    "rmse_dtr = np.sqrt(mean_squared_error(y_test, y_pred))\n",
    "print(\"The Root Mean Squared Error for Decision Tree Regressor is:\", rmse_dtr)\n",
    "print(\"DTR score is:\", grid_search_dtr.score(X_test, y_test) * 100, \"%\")\n",
    "print(\"The best parameters of the decision tree regressor are:\")\n",
    "print(grid_search_dtr.best_params_)"
   ]
  },
  {
   "cell_type": "markdown",
   "metadata": {
    "id": "a7dcbaee-bbc4-4eb9-af7a-bb8fe54e8304",
    "papermill": {
     "duration": 0.081221,
     "end_time": "2022-01-03T20:43:17.569278",
     "exception": false,
     "start_time": "2022-01-03T20:43:17.488057",
     "status": "completed"
    },
    "tags": []
   },
   "source": [
    "# Visualizing the Decision Tree Regressor"
   ]
  },
  {
   "cell_type": "code",
   "execution_count": null,
   "metadata": {
    "execution": {
     "iopub.execute_input": "2022-01-03T20:43:17.744737Z",
     "iopub.status.busy": "2022-01-03T20:43:17.743975Z",
     "iopub.status.idle": "2022-01-03T20:43:18.411599Z",
     "shell.execute_reply": "2022-01-03T20:43:18.412639Z",
     "shell.execute_reply.started": "2022-01-03T19:19:48.371531Z"
    },
    "id": "b4481ac7-506f-46aa-9a9f-5630bdeaf18a",
    "papermill": {
     "duration": 0.76143,
     "end_time": "2022-01-03T20:43:18.412800",
     "exception": false,
     "start_time": "2022-01-03T20:43:17.651370",
     "status": "completed"
    },
    "tags": []
   },
   "outputs": [],
   "source": [
    "features = df[final_features].columns\n",
    "label = ['SalePrice']\n",
    "target = df[label].columns\n",
    "dot_data = tree.export_graphviz(\n",
    "    DecisionTreeRegressor(max_depth = 5, max_leaf_nodes = 19, min_samples_leaf = 3, splitter = 'best', random_state = 0).fit(X_train, y_train), \n",
    "    out_file = None, feature_names = features, class_names = target, filled = True\n",
    "    )\n",
    "graph = graphviz.Source(dot_data, format = \"jpg\")\n",
    "display(graph)"
   ]
  },
  {
   "cell_type": "markdown",
   "metadata": {
    "id": "faec2c89-d4c5-426d-b899-76d170915852",
    "papermill": {
     "duration": 0.086001,
     "end_time": "2022-01-03T20:43:18.588325",
     "exception": false,
     "start_time": "2022-01-03T20:43:18.502324",
     "status": "completed"
    },
    "tags": []
   },
   "source": [
    "# Random Forest Regressor\n",
    "It it an ensemble technique capable of performing regression. The basic idea behind this is to combine multiple decision trees in determining the final output rather than relying on individual decision trees.\n",
    "<div style=\"width:100%;text-align: center;\"><img align = \"left\" src=\"https://cdn.analyticsvidhya.com/wp-content/uploads/2020/02/rfc_vs_dt1.png\" style=\"height:300px;\"></div>"
   ]
  },
  {
   "cell_type": "code",
   "execution_count": null,
   "metadata": {
    "execution": {
     "iopub.execute_input": "2022-01-03T20:43:18.774259Z",
     "iopub.status.busy": "2022-01-03T20:43:18.772947Z",
     "iopub.status.idle": "2022-01-03T20:45:40.661072Z",
     "shell.execute_reply": "2022-01-03T20:45:40.661751Z",
     "shell.execute_reply.started": "2022-01-03T19:19:51.439884Z"
    },
    "id": "0f07dca4-f79f-4e95-8d53-ca147bd50be5",
    "papermill": {
     "duration": 141.985776,
     "end_time": "2022-01-03T20:45:40.661986",
     "exception": false,
     "start_time": "2022-01-03T20:43:18.676210",
     "status": "completed"
    },
    "tags": []
   },
   "outputs": [],
   "source": [
    "rfr = RandomForestRegressor()\n",
    "param_grid = {'n_estimators': list(range(100, 200, 10)),\n",
    "             'max_depth': list(range(4, 7)),\n",
    "             'min_samples_split': list(range(2, 4))}\n",
    "grid_search_rfr = GridSearchCV(rfr, param_grid, cv = 5)\n",
    "grid_search_rfr.fit(X_train, y_train)\n",
    "y_pred = grid_search_rfr.predict(X_test)\n",
    "rmse_rfr_grid = np.sqrt(mean_squared_error(y_test, y_pred))\n",
    "print(\"The Root Mean Squared Error is:\", rmse_rfr_grid)\n",
    "print(\"RFR Score is:\", grid_search_rfr.score(X_test, y_test) * 100, \"%\")"
   ]
  },
  {
   "cell_type": "markdown",
   "metadata": {
    "id": "536930b8-45fc-42e6-b1fb-a76e6c92f911",
    "papermill": {
     "duration": 0.083477,
     "end_time": "2022-01-03T20:45:40.831503",
     "exception": false,
     "start_time": "2022-01-03T20:45:40.748026",
     "status": "completed"
    },
    "tags": []
   },
   "source": [
    "# AdaBoost Regressor\n",
    "AdaBoost regressor is a meta-estimator that begins by fitting a regressor on the original dataset and then fits additional copies of the regressor on the same dataset but where the weights of instances are adjusted according to the error of the current prediction. As such, subsequent regressors focus more on difficult cases."
   ]
  },
  {
   "cell_type": "code",
   "execution_count": null,
   "metadata": {
    "execution": {
     "iopub.execute_input": "2022-01-03T20:45:41.015556Z",
     "iopub.status.busy": "2022-01-03T20:45:41.014743Z",
     "iopub.status.idle": "2022-01-03T20:50:03.830184Z",
     "shell.execute_reply": "2022-01-03T20:50:03.830838Z",
     "shell.execute_reply.started": "2022-01-03T19:22:08.115477Z"
    },
    "id": "e0a7b02a-ed63-4a46-9810-b853a0e11c0d",
    "papermill": {
     "duration": 262.907283,
     "end_time": "2022-01-03T20:50:03.831072",
     "exception": false,
     "start_time": "2022-01-03T20:45:40.923789",
     "status": "completed"
    },
    "tags": []
   },
   "outputs": [],
   "source": [
    "abr = AdaBoostRegressor(random_state = 0)\n",
    "param_grid = {'n_estimators': list(range(100, 1000, 100)),\n",
    "             'learning_rate': [0.001, 0.01, 0.1, 1, 10]}\n",
    "grid_search_abr = GridSearchCV(abr, param_grid, cv = 5)\n",
    "grid_search_abr.fit(X_train, y_train)\n",
    "y_pred = grid_search_abr.predict(X_test)\n",
    "rmse_abr_grid = np.sqrt(mean_squared_error(y_test, y_pred))\n",
    "print(\"The Root Mean Squared Error is:\", rmse_abr_grid)\n",
    "print(\"ABR Score is:\", grid_search_abr.score(X_test, y_test) * 100, \"%\")"
   ]
  },
  {
   "cell_type": "markdown",
   "metadata": {
    "id": "bd5696e3-c13d-4cb4-8f6a-915c640a238e",
    "papermill": {
     "duration": 0.095321,
     "end_time": "2022-01-03T20:51:37.887672",
     "exception": false,
     "start_time": "2022-01-03T20:51:37.792351",
     "status": "completed"
    },
    "tags": []
   },
   "source": [
    "# Visualizing the Results"
   ]
  },
  {
   "cell_type": "code",
   "execution_count": null,
   "metadata": {
    "execution": {
     "iopub.execute_input": "2022-01-03T20:51:38.196397Z",
     "iopub.status.busy": "2022-01-03T20:51:38.195579Z",
     "iopub.status.idle": "2022-01-03T20:51:38.589223Z",
     "shell.execute_reply": "2022-01-03T20:51:38.589636Z",
     "shell.execute_reply.started": "2022-01-03T19:27:46.596735Z"
    },
    "id": "b2d17d23-90fb-42e9-91ff-3d0ac9497ffd",
    "papermill": {
     "duration": 0.558222,
     "end_time": "2022-01-03T20:51:38.589778",
     "exception": false,
     "start_time": "2022-01-03T20:51:38.031556",
     "status": "completed"
    },
    "tags": []
   },
   "outputs": [],
   "source": [
    "data = {'Linear Regression': rmse_lin_reg, 'Ridge Regression': rmse_ridge_reg, 'Lasso Regression': rmse_las_reg, 'Elastic Net': rmse_el_net,\n",
    "        'Support Vector Regressor': rmse_svr, 'Decision Tree Regressor': rmse_dtr, 'Random Forest Regressor': rmse_rfr_grid,\n",
    "        'Ada Boost Regressor': rmse_abr_grid}\n",
    "data = dict(sorted(data.items(), key = lambda x: x[1], reverse = True))\n",
    "models = list(data.keys())\n",
    "RMSE = list(data.values())\n",
    "fig = plt.figure(figsize = (30, 10))\n",
    "sns.barplot(x = models, y = RMSE)\n",
    "plt.xlabel(\"Models Used\", size = 20)\n",
    "plt.xticks(rotation = 30, size = 15)\n",
    "plt.ylabel(\"RMSE\", size = 20)\n",
    "plt.yticks(size = 15)\n",
    "plt.title(\"RMSE for different models\", size = 25)\n",
    "plt.show()"
   ]
  },
  {
   "cell_type": "markdown",
   "metadata": {
    "id": "3184d5f981b844568ff9d6fe9b7b6f31"
   },
   "source": [
    "# Save Test Data"
   ]
  },
  {
   "cell_type": "code",
   "execution_count": null,
   "metadata": {
    "id": "b8f8c7294d6c49908c0de01fdb19b982"
   },
   "outputs": [],
   "source": [
    "test_run_df = y_val.to_frame().join(X_val)\n",
    "test_run_df.head()"
   ]
  },
  {
   "cell_type": "code",
   "execution_count": null,
   "metadata": {
    "id": "897b3a75788f473f9500b08152e1b68d"
   },
   "outputs": [],
   "source": [
    "test_run_df.to_csv(os.environ['DSX_PROJECT_DIR']+'/datasets/test_df_houses_labeled.csv', index = False)"
   ]
  },
  {
   "cell_type": "code",
   "execution_count": null,
   "metadata": {
    "id": "9b1244887b52485796b9cf5316d2fe67"
   },
   "outputs": [],
   "source": [
    "X_val.to_csv(os.environ['DSX_PROJECT_DIR']+'/datasets/test_df_houses_unlabeled.csv', index = False)"
   ]
  },
  {
   "cell_type": "markdown",
   "metadata": {
    "id": "b6fddddef6e745b980265115d33db1f7"
   },
   "source": [
    "# Save Model"
   ]
  },
  {
   "cell_type": "code",
   "execution_count": null,
   "metadata": {
    "id": "dca777dd620f4e2d833b2f7449479c77"
   },
   "outputs": [],
   "source": [
    "model_name = 'Regressor_House_Prices_rfr'"
   ]
  },
  {
   "cell_type": "code",
   "execution_count": null,
   "metadata": {
    "id": "e64fabd586184faea1f363dd910602d2"
   },
   "outputs": [],
   "source": [
    "from dsx_ml.ml import save\n",
    "\n",
    "saved_model_output = save(name = model_name,\n",
    "                          model = grid_search_rfr,\n",
    "                          x_test=pd.DataFrame(X_test),\n",
    "                          y_test=pd.DataFrame(y_test),\n",
    "                          labelColumn_json = [{\"name\": \"SalePrice\", \"type\": \"float\"}],\n",
    "                          algorithm_type = 'Regression',\n",
    "                          source='housing_prices_regression_models_solution.ipynb',\n",
    "                          description='Regressor models for a house prices use case'\n",
    "                         )\n",
    "saved_model_output"
   ]
  },
  {
   "cell_type": "markdown",
   "metadata": {
    "id": "676d9eff21ae4a778261fead9f46c3da"
   },
   "source": [
    "## Make an online scoring prediction\n",
    "\n",
    "Upon saving a model, an internal online scoring endpoint is automatically created.\n",
    "\n",
    "Compatible models:\n",
    "https://www.ibm.com/docs/en/watson-studio-local/1.2.3?topic=data-machine-learning-models"
   ]
  },
  {
   "cell_type": "code",
   "execution_count": null,
   "metadata": {
    "id": "9ed03848884543a0abd506b9ce7c1f1b"
   },
   "outputs": [],
   "source": [
    "import os\n",
    "import requests\n",
    "import json"
   ]
  },
  {
   "cell_type": "code",
   "execution_count": null,
   "metadata": {
    "id": "678a5a33a76945d5ae8f6dda376eed54"
   },
   "outputs": [],
   "source": [
    "with open(f\"/user-home/{os.environ['DSX_USER_ID']}/DSX_Projects/{os.environ['DSX_PROJECT_NAME']}/models/{model_name}/metadata.json\") as infile:\n",
    "    metadata_dict = json.load(infile)"
   ]
  },
  {
   "cell_type": "code",
   "execution_count": null,
   "metadata": {
    "id": "a872989c808d4fba91c04a2f4e439906"
   },
   "outputs": [],
   "source": [
    "print(f\"Model Type: {metadata_dict['algorithm']}\")\n",
    "print(\"Feature(s):\")\n",
    "for feature in metadata_dict['features']:\n",
    "    print('    '+feature['name'])\n",
    "\n",
    "print(f\"Latest Model Version: {metadata_dict['latestModelVersion']}\")\n",
    "print(\"Label(s):\")\n",
    "for label in metadata_dict['labelColumns']:\n",
    "    print('    '+label['name'])"
   ]
  },
  {
   "cell_type": "code",
   "execution_count": null,
   "metadata": {
    "id": "e2baefca03bf46f8ba1b23e3e7727a41"
   },
   "outputs": [],
   "source": [
    "header_online = {'Content-Type': 'application/json', 'Authorization': os.environ['DSX_TOKEN']}"
   ]
  },
  {
   "cell_type": "markdown",
   "metadata": {
    "id": "aeafc01720f24d8482fbbee0383ebabb"
   },
   "source": [
    "New data is provided in the following cell.\n",
    "\n",
    "Use this sample data or create your own:\n",
    "\n",
    "{\"OverallQual\":-0.75110125, \"YearBuilt\":-0.34094461, \"YearRemodAdd\":-1.07288463, \"TotalBsmtSF\":-0.3706814 , \"1stFlrSF\":-0.65456132,\"GrLivArea\":-1.21558782, \"FullBath\":-1.02871967, \"TotRmsAbvGrd\":-0.91833473, \"GarageCars\":-0.98767408,  \"GarageArea\":1.1855381 ,\"MSZoning\": -1.49289614, \"BldgType\": -0.42662461, \"ExterQual\": 0.67354752, \"CentralAir\": 0.27271612,  \"KitchenQual\": 0.76832738, \"SaleCondition\": 0.20138321}"
   ]
  },
  {
   "cell_type": "code",
   "execution_count": null,
   "metadata": {
    "id": "f7b21995f9d4410b81de922789deab33"
   },
   "outputs": [],
   "source": [
    "payload = [{\"OverallQual\":-0.75110125, \"YearBuilt\":-0.34094461, \"YearRemodAdd\":-1.07288463, \"TotalBsmtSF\":-0.3706814 , \"1stFlrSF\":-0.65456132,\"GrLivArea\":-1.21558782, \"FullBath\":-1.02871967, \"TotRmsAbvGrd\":-0.91833473, \"GarageCars\":-0.98767408,  \"GarageArea\":1.1855381 ,\"MSZoning\": -1.49289614, \"BldgType\": -0.42662461, \"ExterQual\": 0.67354752, \"CentralAir\": 0.27271612,  \"KitchenQual\": 0.76832738, \"SaleCondition\": 0.20138321}]\n",
    "print(payload)"
   ]
  },
  {
   "cell_type": "code",
   "execution_count": null,
   "metadata": {
    "id": "8baca7c51724427e8f20e5ad9dc39549"
   },
   "outputs": [],
   "source": [
    "scoring_response = requests.post(saved_model_output['scoring_endpoint'], json=payload, headers=header_online)"
   ]
  },
  {
   "cell_type": "code",
   "execution_count": null,
   "metadata": {
    "id": "d23390d8de97461f9331b2253e074731"
   },
   "outputs": [],
   "source": [
    "scoring_response.content"
   ]
  },
  {
   "cell_type": "markdown",
   "metadata": {
    "id": "01ec1a95fcc34f758e3fbc385802c323"
   },
   "source": [
    "## Make batch online scoring prediction via API\n",
    "\n",
    "In Watson Studio, an online batch scoring endpoint can be created.  \n",
    "By running batch score at least once to generate a script, API details can be generated by going to {Your project} > Scripts > {your model} then click the 3 vertical dots on the right then Test API…"
   ]
  },
  {
   "cell_type": "markdown",
   "metadata": {
    "id": "b5a86ae0e42b41bd8dbe466a11d3d275"
   },
   "source": [
    "To test a script, a bearer token (accessToken) is needed to authenticate the user. The token lasts for 13 hours and can be retrieved by running:"
   ]
  },
  {
   "cell_type": "code",
   "execution_count": null,
   "metadata": {
    "id": "8f72d1ae15c942edaf132009c9f101e1"
   },
   "outputs": [],
   "source": [
    "url_batch_score_auth = 'https://52.116.135.95/v1/preauth/validateAuth'\n",
    "url_batch_score = 'https://52.116.135.95/dsx-py3-script/ibmdsxuser-1003/1648180381668/batch_score'"
   ]
  },
  {
   "cell_type": "code",
   "execution_count": null,
   "metadata": {
    "id": "f634caf786a24315a831197cbe43048f"
   },
   "outputs": [],
   "source": [
    "score_auth = requests.get(url_batch_score_auth, auth=({{your username}}, {{your password}}), verify=False)"
   ]
  },
  {
   "cell_type": "code",
   "execution_count": null,
   "metadata": {
    "id": "f58d01bc24fe403f8fdc3f4897ac744f"
   },
   "outputs": [],
   "source": [
    "accessToken = json.loads(score_auth.content)['accessToken']"
   ]
  },
  {
   "cell_type": "code",
   "execution_count": null,
   "metadata": {
    "id": "1ad2d84160794fffb45628f42e079aeb"
   },
   "outputs": [],
   "source": [
    "header_batch_score = {'Content-Type': 'application/json', 'Authorization': f'Bearer {accessToken}'}"
   ]
  },
  {
   "cell_type": "code",
   "execution_count": null,
   "metadata": {
    "id": "8899a84485a949cb8fc4b8bfce4b0fb5"
   },
   "outputs": [],
   "source": [
    "args = {'execution_type': 'DSX', 'target': '/datasets/test_df_houses_batch_score_results.csv', 'source': '/datasets/test_df_houses_unlabeled.csv', 'output_type': 'Localfile', 'output_datasource_type': '', 'sysparm': '', 'remoteHost': '', 'remoteHostImage': '', 'livyVersion': 'livyspark2'}"
   ]
  },
  {
   "cell_type": "code",
   "execution_count": null,
   "metadata": {
    "id": "61d7bef4400c4c3ba0631d86beb27144"
   },
   "outputs": [],
   "source": [
    "batch_score_payload = { \"relativeScriptPath\": \"scripts/batch_score_housing_prices_sample.py\", \"args\": args }"
   ]
  },
  {
   "cell_type": "code",
   "execution_count": null,
   "metadata": {
    "id": "8d609ad0a3ae45a68fde3bc3e96e7221"
   },
   "outputs": [],
   "source": [
    "batch_scoring_response = requests.post(url_batch_score, json=batch_score_payload, headers=header_batch_score, verify=False)"
   ]
  },
  {
   "cell_type": "code",
   "execution_count": null,
   "metadata": {
    "id": "b9e06f92191749b78671f468d9882c9e"
   },
   "outputs": [],
   "source": [
    "json.loads(batch_scoring_response.content)"
   ]
  },
  {
   "cell_type": "markdown",
   "metadata": {
    "id": "f629ae3e-80c5-48cc-9f9e-53bf3df0ca03"
   },
   "source": [
    "## Make an online scoring prediction via API\n",
    "\n",
    "Upon deploying in Watson Machine Learning, an online scoring endpoint is automatically created."
   ]
  },
  {
   "cell_type": "code",
   "execution_count": null,
   "metadata": {
    "id": "a2206e4e5b8647d8819329618c4664dc"
   },
   "outputs": [],
   "source": [
    "url_score = 'https://52.116.135.95/dmodel/v1/python-lab/pyscript/regressor-housing-prices/score'"
   ]
  },
  {
   "cell_type": "code",
   "execution_count": null,
   "metadata": {
    "id": "b920a6ef8af64b529564aa5cc904df4e"
   },
   "outputs": [],
   "source": [
    "header_online_api = {'Content-Type': 'application/json', 'Cache-Control': 'no-cache', 'Authorization': {{your token}}}"
   ]
  },
  {
   "cell_type": "code",
   "execution_count": null,
   "metadata": {
    "id": "39398382c65542ef8785cd4bd16bee96"
   },
   "outputs": [],
   "source": [
    "payload_data = {\"args\":{\"input_json\":[{\"OverallQual\":-0.75110125, \"YearBuilt\":-0.34094461, \"YearRemodAdd\":-1.07288463, \"TotalBsmtSF\":-0.3706814 , \"1stFlrSF\":-0.65456132,\"GrLivArea\":-1.21558782, \"FullBath\":-1.02871967, \"TotRmsAbvGrd\":-0.91833473, \"GarageCars\":-0.98767408,  \"GarageArea\":1.1855381 ,\"MSZoning\": -1.49289614, \"BldgType\": -0.42662461, \"ExterQual\": 0.67354752, \"CentralAir\": 0.27271612,  \"KitchenQual\": 0.76832738, \"SaleCondition\": 0.20138321}]}}\n",
    "print(payload_data)"
   ]
  },
  {
   "cell_type": "code",
   "execution_count": null,
   "metadata": {
    "id": "a03cd9534c3148c3922c3a6a0a6f3c9a"
   },
   "outputs": [],
   "source": [
    "scoring_response_api = requests.post(url_score, json=payload_data, headers=header_online_api, verify=False)"
   ]
  },
  {
   "cell_type": "code",
   "execution_count": null,
   "metadata": {
    "id": "5fe4a75ba0214655b2ed18ac15225d23"
   },
   "outputs": [],
   "source": [
    "json.loads(scoring_response_api.content)"
   ]
  },
  {
   "cell_type": "markdown",
   "metadata": {
    "id": "db8cdfdb-2197-4428-9904-2ab450de9bb9",
    "papermill": {
     "duration": 0.086853,
     "end_time": "2022-01-03T20:51:38.765482",
     "exception": false,
     "start_time": "2022-01-03T20:51:38.678629",
     "status": "completed"
    },
    "tags": []
   },
   "source": [
    "# Creating the Submission File (Optional only if submitting to Kaggle for test/ranking)"
   ]
  },
  {
   "cell_type": "code",
   "execution_count": null,
   "metadata": {
    "execution": {
     "iopub.execute_input": "2022-01-03T20:51:38.963511Z",
     "iopub.status.busy": "2022-01-03T20:51:38.962737Z",
     "iopub.status.idle": "2022-01-03T20:51:39.056569Z",
     "shell.execute_reply": "2022-01-03T20:51:39.057131Z",
     "shell.execute_reply.started": "2022-01-03T20:40:58.163508Z"
    },
    "id": "df6bde4e-5afe-4fb0-96fa-2bc9c4d00488",
    "papermill": {
     "duration": 0.199285,
     "end_time": "2022-01-03T20:51:39.057312",
     "exception": false,
     "start_time": "2022-01-03T20:51:38.858027",
     "status": "completed"
    },
    "tags": []
   },
   "outputs": [],
   "source": [
    "df = pd.read_csv(os.environ['DSX_PROJECT_DIR']+'/datasets/test_houses.csv')\n",
    "df = df[final_features]\n",
    "df[cat_cols] = df[cat_cols].astype(str)\n",
    "df[cat_cols] = df[cat_cols].apply(label_encoder.fit_transform)\n",
    "X = df\n",
    "X_scaled = scaler.fit_transform(X)\n",
    "X = pd.DataFrame(X_scaled, index=X.index, columns=X.columns)\n",
    "y_pred_frf = grid_search_rfr.predict(X)\n",
    "final_pred = list(y_pred_frf)\n",
    "df = pd.read_csv(os.environ['DSX_PROJECT_DIR']+'/datasets/test_houses.csv')['Id']\n",
    "df = pd.DataFrame(df)\n",
    "df['SalePrice'] = final_pred\n",
    "# df.to_csv('submission', index = False)\n",
    "df.head()"
   ]
  },
  {
   "cell_type": "code",
   "execution_count": null,
   "metadata": {
    "id": "caf4f7277b5a4310819282fdb4458ef7"
   },
   "outputs": [],
   "source": []
  },
  {
   "cell_type": "code",
   "execution_count": null,
   "metadata": {
    "id": "5154d480555449a4b02df2b6a9b612d6"
   },
   "outputs": [],
   "source": []
  }
 ],
 "metadata": {
  "kernelspec": {
   "display_name": "Python 3.7 with Watson Studio Spark 2.2.1",
   "language": "python",
   "name": "py3clusterspark"
  },
  "language_info": {
   "codemirror_mode": {
    "name": "ipython",
    "version": 3
   },
   "file_extension": ".py",
   "mimetype": "text/x-python",
   "name": "python",
   "nbconvert_exporter": "python",
   "pygments_lexer": "ipython3",
   "version": "3.7.6"
  },
  "papermill": {
   "default_parameters": {},
   "duration": 618.553183,
   "end_time": "2022-01-03T20:51:40.569134",
   "environment_variables": {},
   "exception": null,
   "input_path": "__notebook__.ipynb",
   "output_path": "__notebook__.ipynb",
   "parameters": {},
   "start_time": "2022-01-03T20:41:22.015951",
   "version": "2.3.3"
  }
 },
 "nbformat": 4,
 "nbformat_minor": 5
}
