{
 "cells": [
  {
   "cell_type": "markdown",
   "metadata": {
    "_cell_guid": "b1076dfc-b9ad-4769-8c92-a6c4dae69d19",
    "_uuid": "8f2839f25d086af736a60e9eeb907d3b93b6e0e5",
    "id": "ede27335-d8cd-4277-bc4d-1f7d990f9c6e",
    "papermill": {
     "duration": 0.047847,
     "end_time": "2022-01-09T09:32:31.253526",
     "exception": false,
     "start_time": "2022-01-09T09:32:31.205679",
     "status": "completed"
    },
    "tags": []
   },
   "source": [
    "# <h1 align = \"center\">Titanic Survival Prediction</h1>\n",
    "<div style=\"width:100%;text-align: center;\"> <img align = middle src=\"https://cdn.wallpapersafari.com/85/81/klWnN6.jpg\" style=\"height:500px\"> </div>"
   ]
  },
  {
   "cell_type": "markdown",
   "metadata": {
    "id": "bbf8a42e-6ded-4a95-8216-352dbb965e34",
    "papermill": {
     "duration": 0.041534,
     "end_time": "2022-01-09T09:32:31.336707",
     "exception": false,
     "start_time": "2022-01-09T09:32:31.295173",
     "status": "completed"
    },
    "tags": []
   },
   "source": [
    "# Dataset Fields\n",
    "- **PassengerId**: Unique Id for each passenger\n",
    "- **Survived**: Binary value for survival (0 = No, 1 = Yes)\n",
    "- **Pclass**: Ticket class for each passenger (1 = 1<sup>st</sup> Class, 2 = 2<sup>nd</sup> Class, 3 = 3<sup>rd</sup> Class)\n",
    "- **Sex**: Gender of each passenger\n",
    "- **Age**: Age of each passenger in years\n",
    "- **SibSp**: Number of siblings or spouses aboard the Titanic\n",
    "- **Parch**: Number of parents or children aboard the Titanic\n",
    "- **Ticket**: Ticket number for the passenger\n",
    "- **Fare**: Price of the ticker\n",
    "- **Cabin**: Cabin number of the passenger\n",
    "- **Embarked**: Port of embarkation (C = Cherbourg, Q = Queenstown, S = Southampton)"
   ]
  },
  {
   "cell_type": "markdown",
   "metadata": {
    "id": "df300e6a-217b-470b-8092-a509f3ceab34",
    "papermill": {
     "duration": 0.038801,
     "end_time": "2022-01-09T09:32:31.416458",
     "exception": false,
     "start_time": "2022-01-09T09:32:31.377657",
     "status": "completed"
    },
    "tags": []
   },
   "source": [
    "# Installing the Necessary Libraries (for first time run only)"
   ]
  },
  {
   "cell_type": "code",
   "execution_count": null,
   "metadata": {
    "id": "85b7596661394de7b32ea8cc51d6edaa"
   },
   "outputs": [],
   "source": [
    "# !conda install -c anaconda graphviz python-graphviz missingno seaborn"
   ]
  },
  {
   "cell_type": "markdown",
   "metadata": {
    "id": "ca0ff18741534dd5845c30062e6fd445",
    "papermill": {
     "duration": 0.038801,
     "end_time": "2022-01-09T09:32:31.416458",
     "exception": false,
     "start_time": "2022-01-09T09:32:31.377657",
     "status": "completed"
    },
    "tags": []
   },
   "source": [
    "# Importing the Necessary Libraries"
   ]
  },
  {
   "cell_type": "code",
   "execution_count": null,
   "metadata": {
    "execution": {
     "iopub.execute_input": "2022-01-09T09:32:31.499077Z",
     "iopub.status.busy": "2022-01-09T09:32:31.497979Z",
     "iopub.status.idle": "2022-01-09T09:32:32.994372Z",
     "shell.execute_reply": "2022-01-09T09:32:32.993330Z",
     "shell.execute_reply.started": "2022-01-09T09:06:18.974971Z"
    },
    "id": "668bb885-c019-43e7-a3e6-d95a63613a30",
    "papermill": {
     "duration": 1.538779,
     "end_time": "2022-01-09T09:32:32.994544",
     "exception": false,
     "start_time": "2022-01-09T09:32:31.455765",
     "status": "completed"
    },
    "tags": []
   },
   "outputs": [],
   "source": [
    "import numpy as np\n",
    "import pandas as pd \n",
    "import matplotlib.pyplot as plt\n",
    "import seaborn as sns\n",
    "import os\n",
    "import graphviz\n",
    "import missingno as msno\n",
    "\n",
    "from sklearn.preprocessing import LabelEncoder\n",
    "from sklearn.preprocessing import StandardScaler\n",
    "\n",
    "from sklearn.model_selection import train_test_split\n",
    "from sklearn.model_selection import RandomizedSearchCV\n",
    "\n",
    "from sklearn.linear_model import LogisticRegression\n",
    "from sklearn.neighbors import KNeighborsClassifier\n",
    "from sklearn.svm import SVC\n",
    "from sklearn import tree\n",
    "from sklearn.tree import DecisionTreeClassifier\n",
    "from sklearn.ensemble import RandomForestClassifier\n",
    "from sklearn.ensemble import AdaBoostClassifier\n",
    "\n",
    "from xgboost import XGBClassifier\n",
    "\n",
    "from sklearn.metrics import confusion_matrix\n",
    "\n",
    "import warnings\n",
    "warnings.filterwarnings('ignore')"
   ]
  },
  {
   "cell_type": "markdown",
   "metadata": {
    "id": "d98ba2c5-994c-4ddd-a4f0-88360c89345a",
    "papermill": {
     "duration": 0.045813,
     "end_time": "2022-01-09T09:32:33.079581",
     "exception": false,
     "start_time": "2022-01-09T09:32:33.033768",
     "status": "completed"
    },
    "tags": []
   },
   "source": [
    "<h3>Printing out a list of all the files in the directory</h3>"
   ]
  },
  {
   "cell_type": "code",
   "execution_count": null,
   "metadata": {
    "execution": {
     "iopub.execute_input": "2022-01-09T09:32:33.163902Z",
     "iopub.status.busy": "2022-01-09T09:32:33.163253Z",
     "iopub.status.idle": "2022-01-09T09:32:33.170723Z",
     "shell.execute_reply": "2022-01-09T09:32:33.171202Z",
     "shell.execute_reply.started": "2022-01-09T08:59:46.195876Z"
    },
    "id": "0cac136d-a84e-44ca-a7c3-15bcd3b4f86c",
    "papermill": {
     "duration": 0.049851,
     "end_time": "2022-01-09T09:32:33.171398",
     "exception": false,
     "start_time": "2022-01-09T09:32:33.121547",
     "status": "completed"
    },
    "tags": []
   },
   "outputs": [],
   "source": [
    "# for dirname, _, filenames in os.walk(os.environ['DSX_PROJECT_DIR']):\n",
    "#     for filename in filenames:\n",
    "#         print(os.path.join(dirname, filename))"
   ]
  },
  {
   "cell_type": "markdown",
   "metadata": {
    "id": "12b6cba4-b227-4970-8061-ea64b3a6ec23",
    "papermill": {
     "duration": 0.0402,
     "end_time": "2022-01-09T09:32:33.251487",
     "exception": false,
     "start_time": "2022-01-09T09:32:33.211287",
     "status": "completed"
    },
    "tags": []
   },
   "source": [
    "# Dataset Information"
   ]
  },
  {
   "cell_type": "markdown",
   "metadata": {
    "id": "6b1d4d2f-32fc-4b54-9783-55d4b5be4eee",
    "papermill": {
     "duration": 0.039675,
     "end_time": "2022-01-09T09:32:33.330528",
     "exception": false,
     "start_time": "2022-01-09T09:32:33.290853",
     "status": "completed"
    },
    "tags": []
   },
   "source": [
    "<h3>Reading the data</h3>"
   ]
  },
  {
   "cell_type": "code",
   "execution_count": null,
   "metadata": {
    "execution": {
     "iopub.execute_input": "2022-01-09T09:32:33.412656Z",
     "iopub.status.busy": "2022-01-09T09:32:33.412065Z",
     "iopub.status.idle": "2022-01-09T09:32:33.460862Z",
     "shell.execute_reply": "2022-01-09T09:32:33.461304Z",
     "shell.execute_reply.started": "2022-01-09T08:59:46.205950Z"
    },
    "id": "ca21dc12-cb2f-43e0-aa98-198e4ab3a180",
    "papermill": {
     "duration": 0.091676,
     "end_time": "2022-01-09T09:32:33.461481",
     "exception": false,
     "start_time": "2022-01-09T09:32:33.369805",
     "status": "completed"
    },
    "tags": []
   },
   "outputs": [],
   "source": [
    "df = pd.read_csv(os.environ['DSX_PROJECT_DIR']+'/datasets/train_titanic.csv')\n",
    "df"
   ]
  },
  {
   "cell_type": "markdown",
   "metadata": {
    "id": "e013c300-7bf7-4d43-b0f0-b7ea7e78d281",
    "papermill": {
     "duration": 0.039269,
     "end_time": "2022-01-09T09:32:33.540930",
     "exception": false,
     "start_time": "2022-01-09T09:32:33.501661",
     "status": "completed"
    },
    "tags": []
   },
   "source": [
    "<h3>Getting information about our dataset</h3>"
   ]
  },
  {
   "cell_type": "code",
   "execution_count": null,
   "metadata": {
    "execution": {
     "iopub.execute_input": "2022-01-09T09:32:33.629518Z",
     "iopub.status.busy": "2022-01-09T09:32:33.628861Z",
     "iopub.status.idle": "2022-01-09T09:32:33.644509Z",
     "shell.execute_reply": "2022-01-09T09:32:33.645100Z",
     "shell.execute_reply.started": "2022-01-09T08:59:46.263744Z"
    },
    "id": "3d7655db-9b31-4683-af74-74f76468ac3e",
    "papermill": {
     "duration": 0.064635,
     "end_time": "2022-01-09T09:32:33.645267",
     "exception": false,
     "start_time": "2022-01-09T09:32:33.580632",
     "status": "completed"
    },
    "tags": []
   },
   "outputs": [],
   "source": [
    "df.info()"
   ]
  },
  {
   "cell_type": "markdown",
   "metadata": {
    "id": "a9e87be9-e062-4a87-9d0a-337a8fbd7548",
    "papermill": {
     "duration": 0.039823,
     "end_time": "2022-01-09T09:32:33.726522",
     "exception": false,
     "start_time": "2022-01-09T09:32:33.686699",
     "status": "completed"
    },
    "tags": []
   },
   "source": [
    "\n",
    "<h3>Looking at the statistical summary of our data</h3>"
   ]
  },
  {
   "cell_type": "code",
   "execution_count": null,
   "metadata": {
    "execution": {
     "iopub.execute_input": "2022-01-09T09:32:33.810174Z",
     "iopub.status.busy": "2022-01-09T09:32:33.809613Z",
     "iopub.status.idle": "2022-01-09T09:32:33.835841Z",
     "shell.execute_reply": "2022-01-09T09:32:33.836250Z",
     "shell.execute_reply.started": "2022-01-09T08:59:46.288568Z"
    },
    "id": "e38f01ce-0757-470e-a376-6b8a1467cd8f",
    "papermill": {
     "duration": 0.069923,
     "end_time": "2022-01-09T09:32:33.836444",
     "exception": false,
     "start_time": "2022-01-09T09:32:33.766521",
     "status": "completed"
    },
    "tags": []
   },
   "outputs": [],
   "source": [
    "df.describe()"
   ]
  },
  {
   "cell_type": "markdown",
   "metadata": {
    "id": "0d415553-9f3a-403d-b69e-d0f0d9327f14",
    "papermill": {
     "duration": 0.040381,
     "end_time": "2022-01-09T09:32:33.917589",
     "exception": false,
     "start_time": "2022-01-09T09:32:33.877208",
     "status": "completed"
    },
    "tags": []
   },
   "source": [
    "<h3>Total missing values in the dataset</h3>"
   ]
  },
  {
   "cell_type": "code",
   "execution_count": null,
   "metadata": {
    "execution": {
     "iopub.execute_input": "2022-01-09T09:32:34.003105Z",
     "iopub.status.busy": "2022-01-09T09:32:34.002509Z",
     "iopub.status.idle": "2022-01-09T09:32:34.012176Z",
     "shell.execute_reply": "2022-01-09T09:32:34.012649Z",
     "shell.execute_reply.started": "2022-01-09T08:59:58.574499Z"
    },
    "id": "d2ab3b4a-87c5-4e3b-868d-2eb989bf0b7e",
    "papermill": {
     "duration": 0.054714,
     "end_time": "2022-01-09T09:32:34.012811",
     "exception": false,
     "start_time": "2022-01-09T09:32:33.958097",
     "status": "completed"
    },
    "tags": []
   },
   "outputs": [],
   "source": [
    "print(\"Count of the missing values\")\n",
    "print(30 * \"-\")\n",
    "print(df.isna().sum())\n",
    "print(30 * \"-\")\n",
    "print(\"Total missing values are:\", df.isna().sum().sum())\n",
    "print(30 * \"-\")"
   ]
  },
  {
   "cell_type": "markdown",
   "metadata": {
    "id": "e0dbd7cd-8d5f-467c-b179-5ec90a06c4e1",
    "papermill": {
     "duration": 0.041131,
     "end_time": "2022-01-09T09:32:34.094695",
     "exception": false,
     "start_time": "2022-01-09T09:32:34.053564",
     "status": "completed"
    },
    "tags": []
   },
   "source": [
    "# Exploratory Data Analysis (EDA) "
   ]
  },
  {
   "cell_type": "code",
   "execution_count": null,
   "metadata": {
    "execution": {
     "iopub.execute_input": "2022-01-09T09:32:34.185304Z",
     "iopub.status.busy": "2022-01-09T09:32:34.184346Z",
     "iopub.status.idle": "2022-01-09T09:32:34.433655Z",
     "shell.execute_reply": "2022-01-09T09:32:34.434158Z",
     "shell.execute_reply.started": "2022-01-09T08:59:59.923944Z"
    },
    "id": "70965f94-b553-455a-83dd-66040d2787df",
    "papermill": {
     "duration": 0.298376,
     "end_time": "2022-01-09T09:32:34.434335",
     "exception": false,
     "start_time": "2022-01-09T09:32:34.135959",
     "status": "completed"
    },
    "tags": []
   },
   "outputs": [],
   "source": [
    "plt.figure(figsize = (15, 10))\n",
    "sns.heatmap(df.isna(), yticklabels = False, cbar = False, cmap = 'viridis')\n",
    "plt.title(\"Visualizing the Missing Data\", fontsize = 20)\n",
    "plt.xticks(rotation = 35, fontsize = 15)\n",
    "plt.show()"
   ]
  },
  {
   "cell_type": "code",
   "execution_count": null,
   "metadata": {
    "execution": {
     "iopub.execute_input": "2022-01-09T09:32:34.524313Z",
     "iopub.status.busy": "2022-01-09T09:32:34.523724Z",
     "iopub.status.idle": "2022-01-09T09:32:35.367931Z",
     "shell.execute_reply": "2022-01-09T09:32:35.367035Z",
     "shell.execute_reply.started": "2022-01-09T09:00:00.491160Z"
    },
    "id": "cdb176cf-8c94-4a22-a496-35102f27777e",
    "papermill": {
     "duration": 0.89058,
     "end_time": "2022-01-09T09:32:35.368073",
     "exception": false,
     "start_time": "2022-01-09T09:32:34.477493",
     "status": "completed"
    },
    "tags": []
   },
   "outputs": [],
   "source": [
    "msno.bar(df, color = (0, 0.4, 0.8), sort = \"ascending\", figsize = (15, 10))\n",
    "plt.show()"
   ]
  },
  {
   "cell_type": "code",
   "execution_count": null,
   "metadata": {
    "execution": {
     "iopub.execute_input": "2022-01-09T09:32:35.462950Z",
     "iopub.status.busy": "2022-01-09T09:32:35.462138Z",
     "iopub.status.idle": "2022-01-09T09:32:35.466061Z",
     "shell.execute_reply": "2022-01-09T09:32:35.465452Z",
     "shell.execute_reply.started": "2022-01-09T09:00:01.334364Z"
    },
    "id": "d153a362-b9df-442f-a2e7-4af6391feedc",
    "papermill": {
     "duration": 0.053764,
     "end_time": "2022-01-09T09:32:35.466199",
     "exception": false,
     "start_time": "2022-01-09T09:32:35.412435",
     "status": "completed"
    },
    "tags": []
   },
   "outputs": [],
   "source": [
    "print(\"Missing Data in the Cabin column =\", (df['Cabin'].isna().sum() / len(df['Cabin']) * 100), \"%\")"
   ]
  },
  {
   "cell_type": "markdown",
   "metadata": {
    "id": "05fb9158-d566-404c-8833-a4a16824a8cc",
    "papermill": {
     "duration": 0.042929,
     "end_time": "2022-01-09T09:32:35.552600",
     "exception": false,
     "start_time": "2022-01-09T09:32:35.509671",
     "status": "completed"
    },
    "tags": []
   },
   "source": [
    "Due to a high number of missing data in the `Cabin` column, it would be better to drop the entire column, rather than try and fill all the values. Since `Age` and `Embarked` have a relatively lower number of missing values it is possible to fill them."
   ]
  },
  {
   "cell_type": "code",
   "execution_count": null,
   "metadata": {
    "execution": {
     "iopub.execute_input": "2022-01-09T09:32:35.647281Z",
     "iopub.status.busy": "2022-01-09T09:32:35.646650Z",
     "iopub.status.idle": "2022-01-09T09:32:35.781379Z",
     "shell.execute_reply": "2022-01-09T09:32:35.782177Z",
     "shell.execute_reply.started": "2022-01-09T09:00:01.865614Z"
    },
    "id": "b32a6eb6-73cd-4a4f-9940-ee48a28c5b88",
    "papermill": {
     "duration": 0.18661,
     "end_time": "2022-01-09T09:32:35.782472",
     "exception": false,
     "start_time": "2022-01-09T09:32:35.595862",
     "status": "completed"
    },
    "tags": []
   },
   "outputs": [],
   "source": [
    "plt.figure(figsize = (15, 10))\n",
    "ax = sns.countplot(x = 'Survived', data = df)\n",
    "plt.title('Survival Rates', fontsize = 20)\n",
    "plt.xlabel('Survived', fontsize = 15)\n",
    "plt.ylabel('Count', fontsize = 15)\n",
    "for p in ax.patches:\n",
    "        ax.annotate('{:.0f} = {:.2f}%'.format(p.get_height(), (p.get_height() / len(df['Survived'])) * 100), (p.get_x() + 0.33, p.get_height() + 5))\n",
    "plt.show()"
   ]
  },
  {
   "cell_type": "markdown",
   "metadata": {
    "id": "58bdaff5-2615-449e-8ce6-09028627a727",
    "papermill": {
     "duration": 0.044176,
     "end_time": "2022-01-09T09:32:35.874966",
     "exception": false,
     "start_time": "2022-01-09T09:32:35.830790",
     "status": "completed"
    },
    "tags": []
   },
   "source": [
    "Based on the data in the `Survived` column, we observe that only 342 passengers managed to survive (38.38%)."
   ]
  },
  {
   "cell_type": "code",
   "execution_count": null,
   "metadata": {
    "execution": {
     "iopub.execute_input": "2022-01-09T09:32:35.968904Z",
     "iopub.status.busy": "2022-01-09T09:32:35.968251Z",
     "iopub.status.idle": "2022-01-09T09:32:36.071438Z",
     "shell.execute_reply": "2022-01-09T09:32:36.071926Z",
     "shell.execute_reply.started": "2022-01-09T09:00:02.586784Z"
    },
    "id": "f6c6bd46-cdd2-4025-9493-06c6e43e7e7d",
    "papermill": {
     "duration": 0.153134,
     "end_time": "2022-01-09T09:32:36.072103",
     "exception": false,
     "start_time": "2022-01-09T09:32:35.918969",
     "status": "completed"
    },
    "tags": []
   },
   "outputs": [],
   "source": [
    "plt.figure(figsize = (15, 10))\n",
    "plt.pie([(df.Sex == 'male').sum(), (df.Sex == 'female').sum()], labels = [\"Male\", \"Female\"], autopct = \"%.2f\", startangle = 90, explode = (0.1, 0.0))\n",
    "plt.title('Percentage of Male and Female Passengers', fontsize = 18)\n",
    "plt.show()"
   ]
  },
  {
   "cell_type": "markdown",
   "metadata": {
    "id": "4525707d-05e0-419d-b987-b1e92f9f1add",
    "papermill": {
     "duration": 0.044777,
     "end_time": "2022-01-09T09:32:36.163501",
     "exception": false,
     "start_time": "2022-01-09T09:32:36.118724",
     "status": "completed"
    },
    "tags": []
   },
   "source": [
    "Majority of the passengers aboard the Titanic were Male (64.76 %).<br>\n",
    "Let us now take a look at the Survival Rates for Male and Female passengers."
   ]
  },
  {
   "cell_type": "code",
   "execution_count": null,
   "metadata": {
    "execution": {
     "iopub.execute_input": "2022-01-09T09:32:36.257100Z",
     "iopub.status.busy": "2022-01-09T09:32:36.256186Z",
     "iopub.status.idle": "2022-01-09T09:32:36.475882Z",
     "shell.execute_reply": "2022-01-09T09:32:36.475207Z",
     "shell.execute_reply.started": "2022-01-09T09:00:03.325293Z"
    },
    "id": "881c3bc2-3b31-4435-ae62-b488849fa18d",
    "papermill": {
     "duration": 0.267602,
     "end_time": "2022-01-09T09:32:36.476023",
     "exception": false,
     "start_time": "2022-01-09T09:32:36.208421",
     "status": "completed"
    },
    "tags": []
   },
   "outputs": [],
   "source": [
    "plt.figure(figsize = (15, 10))\n",
    "ax = sns.countplot(x = 'Survived', hue = 'Sex', data = df)\n",
    "plt.title('Survival for Male and Female Passengers', fontsize = 20)\n",
    "plt.xlabel('Survived', fontsize = 15)\n",
    "plt.ylabel('Count', fontsize = 15)\n",
    "for p in ax.patches:\n",
    "        ax.annotate('{:.2f}'.format(p.get_height()), (p.get_x() + 0.17, p.get_height() + 3))\n",
    "plt.show()"
   ]
  },
  {
   "cell_type": "markdown",
   "metadata": {
    "id": "e593e2a4-89b6-40b7-af40-a3e4af1a1467",
    "papermill": {
     "duration": 0.045351,
     "end_time": "2022-01-09T09:32:36.567471",
     "exception": false,
     "start_time": "2022-01-09T09:32:36.522120",
     "status": "completed"
    },
    "tags": []
   },
   "source": [
    "**Observations**<br>\n",
    "- Most of the Male passengers have not survived.<br>\n",
    "- Majority of the Female passengers have survived."
   ]
  },
  {
   "cell_type": "code",
   "execution_count": null,
   "metadata": {
    "execution": {
     "iopub.execute_input": "2022-01-09T09:32:36.666449Z",
     "iopub.status.busy": "2022-01-09T09:32:36.665855Z",
     "iopub.status.idle": "2022-01-09T09:32:37.023467Z",
     "shell.execute_reply": "2022-01-09T09:32:37.023938Z",
     "shell.execute_reply.started": "2022-01-09T09:00:04.039119Z"
    },
    "id": "ba18e262-d578-4bcc-bc44-dc575c6d2134",
    "papermill": {
     "duration": 0.410953,
     "end_time": "2022-01-09T09:32:37.024109",
     "exception": false,
     "start_time": "2022-01-09T09:32:36.613156",
     "status": "completed"
    },
    "tags": []
   },
   "outputs": [],
   "source": [
    "plt.figure(figsize = (15, 10))\n",
    "ax = sns.countplot(x = 'Survived', hue = 'Pclass', data = df)\n",
    "plt.title('Survival Based on Class', fontsize = 20)\n",
    "plt.xlabel('Survival', fontsize = 15)\n",
    "plt.ylabel('Count', fontsize = 15)\n",
    "for p in ax.patches:\n",
    "        ax.annotate('{:.2f}'.format(p.get_height()), (p.get_x() + 0.1, p.get_height() + 3))\n",
    "plt.show()"
   ]
  },
  {
   "cell_type": "markdown",
   "metadata": {
    "id": "011695cf-51a4-42b2-8278-bf086486bd6f",
    "papermill": {
     "duration": 0.047535,
     "end_time": "2022-01-09T09:32:37.118630",
     "exception": false,
     "start_time": "2022-01-09T09:32:37.071095",
     "status": "completed"
    },
    "tags": []
   },
   "source": [
    "We notice that `Pclass` of the passenger does affect their survival odds.<br>\n",
    "Passengers in the 3<sup>rd</sup> class have a much higher mortality rate as compared to the other two classes.<br>\n",
    "The 1<sup>st</sup> class has a higher number of passengers that survived, probably because they were richer."
   ]
  },
  {
   "cell_type": "code",
   "execution_count": null,
   "metadata": {
    "execution": {
     "iopub.execute_input": "2022-01-09T09:32:37.215815Z",
     "iopub.status.busy": "2022-01-09T09:32:37.215200Z",
     "iopub.status.idle": "2022-01-09T09:32:37.508186Z",
     "shell.execute_reply": "2022-01-09T09:32:37.508647Z",
     "shell.execute_reply.started": "2022-01-09T09:00:04.834725Z"
    },
    "id": "39b08665-7862-4a48-8c7c-63fef21f5807",
    "papermill": {
     "duration": 0.343375,
     "end_time": "2022-01-09T09:32:37.508822",
     "exception": false,
     "start_time": "2022-01-09T09:32:37.165447",
     "status": "completed"
    },
    "tags": []
   },
   "outputs": [],
   "source": [
    "plt.figure(figsize = (15, 10))\n",
    "sns.distplot(df['Age'].dropna(), color = (0, 0.5, 1), bins = 40, kde = True)\n",
    "plt.title('Age Density of the Passengers', fontsize = 20)\n",
    "plt.xlabel('Age', fontsize = 15)\n",
    "plt.show()"
   ]
  },
  {
   "cell_type": "markdown",
   "metadata": {
    "id": "3ae0c3d0-5555-4506-8910-8096fe315edc",
    "papermill": {
     "duration": 0.048279,
     "end_time": "2022-01-09T09:32:37.606108",
     "exception": false,
     "start_time": "2022-01-09T09:32:37.557829",
     "status": "completed"
    },
    "tags": []
   },
   "source": [
    "Majority of the passengers on the Titanic were between 20 to 40 years of age"
   ]
  },
  {
   "cell_type": "code",
   "execution_count": null,
   "metadata": {
    "execution": {
     "iopub.execute_input": "2022-01-09T09:32:37.706205Z",
     "iopub.status.busy": "2022-01-09T09:32:37.705613Z",
     "iopub.status.idle": "2022-01-09T09:32:37.941016Z",
     "shell.execute_reply": "2022-01-09T09:32:37.941460Z",
     "shell.execute_reply.started": "2022-01-09T09:00:05.564605Z"
    },
    "id": "e972016c-a786-4d91-bce3-7d8fb0b967a3",
    "papermill": {
     "duration": 0.28693,
     "end_time": "2022-01-09T09:32:37.941638",
     "exception": false,
     "start_time": "2022-01-09T09:32:37.654708",
     "status": "completed"
    },
    "tags": []
   },
   "outputs": [],
   "source": [
    "plt.figure(figsize = (15, 10))\n",
    "ax = sns.countplot(x = 'SibSp', data = df)\n",
    "plt.title('Siblings/Spouses on Board', fontsize = 20)\n",
    "plt.xlabel('SibSp', fontsize = 15)\n",
    "plt.ylabel('Count', fontsize = 15)\n",
    "for p in ax.patches:\n",
    "        ax.annotate('{:.0f} = {:.2f}%'.format(p.get_height(), (p.get_height() / len(df['SibSp'])) * 100), (p.get_x() + 0.15, p.get_height() + 5))\n",
    "plt.show()"
   ]
  },
  {
   "cell_type": "markdown",
   "metadata": {
    "id": "ea046d65-9b48-49a7-8a74-1ba4211a660b",
    "papermill": {
     "duration": 0.048735,
     "end_time": "2022-01-09T09:32:38.039221",
     "exception": false,
     "start_time": "2022-01-09T09:32:37.990486",
     "status": "completed"
    },
    "tags": []
   },
   "source": [
    "`SibSp` indicates the number of Siblings or Spouses on board.<br>\n",
    "From the countplot we see that most of the passengers were travelling alone."
   ]
  },
  {
   "cell_type": "code",
   "execution_count": null,
   "metadata": {
    "execution": {
     "iopub.execute_input": "2022-01-09T09:32:38.142711Z",
     "iopub.status.busy": "2022-01-09T09:32:38.142112Z",
     "iopub.status.idle": "2022-01-09T09:32:38.380722Z",
     "shell.execute_reply": "2022-01-09T09:32:38.380110Z",
     "shell.execute_reply.started": "2022-01-09T09:00:06.336801Z"
    },
    "id": "3f45463e-37a1-42d2-b443-d90de46eda82",
    "papermill": {
     "duration": 0.291738,
     "end_time": "2022-01-09T09:32:38.380877",
     "exception": false,
     "start_time": "2022-01-09T09:32:38.089139",
     "status": "completed"
    },
    "tags": []
   },
   "outputs": [],
   "source": [
    "plt.figure(figsize = (15, 10))\n",
    "ax = sns.countplot(x = 'Parch', data = df)\n",
    "plt.title('Parents/Children on Board', fontsize = 20)\n",
    "plt.xlabel('Parch', fontsize = 15)\n",
    "plt.ylabel('Count', fontsize = 15)\n",
    "for p in ax.patches:\n",
    "        ax.annotate('{:.0f} = {:.2f}%'.format(p.get_height(), (p.get_height() / len(df['SibSp'])) * 100), (p.get_x() + 0.15, p.get_height() + 5))\n",
    "plt.show()"
   ]
  },
  {
   "cell_type": "markdown",
   "metadata": {
    "id": "b41d5e42-501d-404c-8629-16641be8a8a6",
    "papermill": {
     "duration": 0.049666,
     "end_time": "2022-01-09T09:32:38.481995",
     "exception": false,
     "start_time": "2022-01-09T09:32:38.432329",
     "status": "completed"
    },
    "tags": []
   },
   "source": [
    "`Parch` indicates the number of Parents or Children aboard the ship<br>\n",
    "Just like in the case of `SibSp` we can observe that most of the people are travelling on their own."
   ]
  },
  {
   "cell_type": "code",
   "execution_count": null,
   "metadata": {
    "execution": {
     "iopub.execute_input": "2022-01-09T09:32:38.586221Z",
     "iopub.status.busy": "2022-01-09T09:32:38.585315Z",
     "iopub.status.idle": "2022-01-09T09:32:38.888641Z",
     "shell.execute_reply": "2022-01-09T09:32:38.888161Z",
     "shell.execute_reply.started": "2022-01-09T09:00:07.027483Z"
    },
    "id": "4195539d-b7e7-40a9-b5fa-06fa43242652",
    "papermill": {
     "duration": 0.356399,
     "end_time": "2022-01-09T09:32:38.888781",
     "exception": false,
     "start_time": "2022-01-09T09:32:38.532382",
     "status": "completed"
    },
    "tags": []
   },
   "outputs": [],
   "source": [
    "plt.figure(figsize = (15, 10))\n",
    "sns.histplot(df['Fare'], bins = 40, kde = True)\n",
    "plt.title('Fare Count for the Passengers', fontsize = 20)\n",
    "plt.xlabel('Fare', fontsize = 15)\n",
    "plt.ylabel('Count', fontsize = 15)\n",
    "plt.show()"
   ]
  },
  {
   "cell_type": "code",
   "execution_count": null,
   "metadata": {
    "execution": {
     "iopub.execute_input": "2022-01-09T09:32:38.996102Z",
     "iopub.status.busy": "2022-01-09T09:32:38.995178Z",
     "iopub.status.idle": "2022-01-09T09:32:39.212366Z",
     "shell.execute_reply": "2022-01-09T09:32:39.211854Z",
     "shell.execute_reply.started": "2022-01-09T09:00:07.348012Z"
    },
    "id": "1206b0ca-251a-45ca-8dd6-3de9b68c2a82",
    "papermill": {
     "duration": 0.271481,
     "end_time": "2022-01-09T09:32:39.212508",
     "exception": false,
     "start_time": "2022-01-09T09:32:38.941027",
     "status": "completed"
    },
    "tags": []
   },
   "outputs": [],
   "source": [
    "plt.figure(figsize = (15, 10))\n",
    "bp = sns.boxplot(x = 'Pclass', y = 'Age', data = df, palette = 'winter')\n",
    "plt.xlabel('Pclass', fontsize = 15)\n",
    "plt.ylabel('Age', fontsize = 15)\n",
    "plt.show()"
   ]
  },
  {
   "cell_type": "markdown",
   "metadata": {
    "id": "f975aa32-6dfa-498a-bdc0-211ccfb9f804",
    "papermill": {
     "duration": 0.050998,
     "end_time": "2022-01-09T09:32:39.314993",
     "exception": false,
     "start_time": "2022-01-09T09:32:39.263995",
     "status": "completed"
    },
    "tags": []
   },
   "source": [
    "Looking at the median age of the passengers based on their class.<br>\n",
    "The median age of the passengers in the 1<sup>st</sup> class is the highest.<br>\n",
    "The median age of the passengers in the 3<sup>rd</sup> class is the lowest.<br>\n",
    "Let us fill in the missing values in the `Age` column based on the median age of the `Pclass`."
   ]
  },
  {
   "cell_type": "code",
   "execution_count": null,
   "metadata": {
    "execution": {
     "iopub.execute_input": "2022-01-09T09:32:39.421634Z",
     "iopub.status.busy": "2022-01-09T09:32:39.421010Z",
     "iopub.status.idle": "2022-01-09T09:32:39.454064Z",
     "shell.execute_reply": "2022-01-09T09:32:39.454582Z",
     "shell.execute_reply.started": "2022-01-09T09:00:08.137759Z"
    },
    "id": "b2c4e1b2-bbb3-4dce-ba4e-88ca8c8b0501",
    "papermill": {
     "duration": 0.088246,
     "end_time": "2022-01-09T09:32:39.454768",
     "exception": false,
     "start_time": "2022-01-09T09:32:39.366522",
     "status": "completed"
    },
    "tags": []
   },
   "outputs": [],
   "source": [
    "def transform_columns(column):\n",
    "    Age = column[0]\n",
    "    Pclass = column[1]\n",
    "    \n",
    "    if(pd.isna(Age)):\n",
    "       if(Pclass == 1):\n",
    "            return 38\n",
    "       elif(Pclass == 2):\n",
    "            return 29   \n",
    "       else:\n",
    "            return 23  \n",
    "    else:\n",
    "       return Age\n",
    "\n",
    "df['Age'] = df[['Age', 'Pclass']].apply(transform_columns, axis = 1)\n",
    "df"
   ]
  },
  {
   "cell_type": "markdown",
   "metadata": {
    "id": "d3fa3bdd-308d-48f2-a4f0-c20ba9bfbb61",
    "papermill": {
     "duration": 0.052273,
     "end_time": "2022-01-09T09:32:39.559664",
     "exception": false,
     "start_time": "2022-01-09T09:32:39.507391",
     "status": "completed"
    },
    "tags": []
   },
   "source": [
    "# Feature Engineering"
   ]
  },
  {
   "cell_type": "markdown",
   "metadata": {
    "id": "3ab5026c-3dc3-4072-8aeb-93408f3c3975",
    "papermill": {
     "duration": 0.052132,
     "end_time": "2022-01-09T09:32:39.664835",
     "exception": false,
     "start_time": "2022-01-09T09:32:39.612703",
     "status": "completed"
    },
    "tags": []
   },
   "source": [
    "Lets create a new feature `IsAlone` that tells us if the passenger is travelling solo or with a family."
   ]
  },
  {
   "cell_type": "code",
   "execution_count": null,
   "metadata": {
    "execution": {
     "iopub.execute_input": "2022-01-09T09:32:39.772882Z",
     "iopub.status.busy": "2022-01-09T09:32:39.772290Z",
     "iopub.status.idle": "2022-01-09T09:32:39.791886Z",
     "shell.execute_reply": "2022-01-09T09:32:39.792423Z",
     "shell.execute_reply.started": "2022-01-09T09:00:09.259282Z"
    },
    "id": "a19c74b7-7a3e-4ee7-87b0-91dbc66e93de",
    "papermill": {
     "duration": 0.075317,
     "end_time": "2022-01-09T09:32:39.792582",
     "exception": false,
     "start_time": "2022-01-09T09:32:39.717265",
     "status": "completed"
    },
    "tags": []
   },
   "outputs": [],
   "source": [
    "df['IsAlone'] = df['SibSp'] + df['Parch']\n",
    "df"
   ]
  },
  {
   "cell_type": "code",
   "execution_count": null,
   "metadata": {
    "execution": {
     "iopub.execute_input": "2022-01-09T09:32:39.907059Z",
     "iopub.status.busy": "2022-01-09T09:32:39.900953Z",
     "iopub.status.idle": "2022-01-09T09:32:40.099810Z",
     "shell.execute_reply": "2022-01-09T09:32:40.099197Z",
     "shell.execute_reply.started": "2022-01-09T09:00:09.960024Z"
    },
    "id": "496cde83-2c2c-4678-8e44-612618d6dfda",
    "papermill": {
     "duration": 0.254721,
     "end_time": "2022-01-09T09:32:40.099941",
     "exception": false,
     "start_time": "2022-01-09T09:32:39.845220",
     "status": "completed"
    },
    "tags": []
   },
   "outputs": [],
   "source": [
    "plt.figure(figsize = (15, 10))\n",
    "ax = sns.countplot(x = 'IsAlone', data = df)\n",
    "plt.xlabel('IsAlone', fontsize = 15)\n",
    "plt.ylabel('Count', fontsize = 15)\n",
    "for p in ax.patches:\n",
    "        ax.annotate('{:.0f}'.format(p.get_height()), (p.get_x() + 0.30, p.get_height() + 5))\n",
    "plt.show()"
   ]
  },
  {
   "cell_type": "markdown",
   "metadata": {
    "id": "60b38678-0b6a-4ef7-90e2-70191693a936",
    "papermill": {
     "duration": 0.052872,
     "end_time": "2022-01-09T09:32:40.207056",
     "exception": false,
     "start_time": "2022-01-09T09:32:40.154184",
     "status": "completed"
    },
    "tags": []
   },
   "source": [
    "As we can observe from the `IsAlone` feature most passengers are travelling by themselves, without any family."
   ]
  },
  {
   "cell_type": "code",
   "execution_count": null,
   "metadata": {
    "execution": {
     "iopub.execute_input": "2022-01-09T09:32:40.357222Z",
     "iopub.status.busy": "2022-01-09T09:32:40.341712Z",
     "iopub.status.idle": "2022-01-09T09:32:40.361050Z",
     "shell.execute_reply": "2022-01-09T09:32:40.360575Z",
     "shell.execute_reply.started": "2022-01-09T09:00:10.838753Z"
    },
    "id": "381f82ea-a439-4e32-8728-0512fb13e26e",
    "papermill": {
     "duration": 0.100703,
     "end_time": "2022-01-09T09:32:40.361196",
     "exception": false,
     "start_time": "2022-01-09T09:32:40.260493",
     "status": "completed"
    },
    "tags": []
   },
   "outputs": [],
   "source": [
    "def convert_IsAlone(df):\n",
    "    \n",
    "    bins = [None] * len(df)\n",
    "\n",
    "    for i in range(len(df)):\n",
    "        if(df.IsAlone[i] in [0]):\n",
    "            bins[i] = 'Alone'\n",
    "        if(df.IsAlone[i] in [1, 2, 3, 4, 5, 6, 7, 10]):\n",
    "            bins[i] = 'Not Alone'\n",
    "\n",
    "    df['IsAlone'] = bins\n",
    "    \n",
    "convert_IsAlone(df)\n",
    "df"
   ]
  },
  {
   "cell_type": "markdown",
   "metadata": {
    "id": "31f10170-c2d6-4fd8-9603-cde04f2329e3",
    "papermill": {
     "duration": 0.055008,
     "end_time": "2022-01-09T09:32:40.471924",
     "exception": false,
     "start_time": "2022-01-09T09:32:40.416916",
     "status": "completed"
    },
    "tags": []
   },
   "source": [
    "We created 2 groups for the `IsAlone` feature.<br>\n",
    "- The first group is named `Alone` and contains passengers travelling alone.<br>\n",
    "- The second group `Not Alone` is for passengers having one or more family member."
   ]
  },
  {
   "cell_type": "code",
   "execution_count": null,
   "metadata": {
    "execution": {
     "iopub.execute_input": "2022-01-09T09:32:40.589856Z",
     "iopub.status.busy": "2022-01-09T09:32:40.588923Z",
     "iopub.status.idle": "2022-01-09T09:32:40.767523Z",
     "shell.execute_reply": "2022-01-09T09:32:40.766915Z",
     "shell.execute_reply.started": "2022-01-09T09:00:11.725906Z"
    },
    "id": "6e861085-8746-4ae9-841b-ef8acbd47e80",
    "papermill": {
     "duration": 0.241415,
     "end_time": "2022-01-09T09:32:40.767664",
     "exception": false,
     "start_time": "2022-01-09T09:32:40.526249",
     "status": "completed"
    },
    "tags": []
   },
   "outputs": [],
   "source": [
    "plt.figure(figsize = (15, 10))\n",
    "ax = sns.countplot(x = 'Survived', hue = 'IsAlone', data = df)\n",
    "plt.title('Survival Count for the IsAlone Feature', fontsize = 20)\n",
    "plt.xlabel('Survived', fontsize = 15)\n",
    "plt.ylabel('Count', fontsize = 15)\n",
    "for p in ax.patches:\n",
    "        ax.annotate('{:.2f}'.format(p.get_height()), (p.get_x() + 0.17, p.get_height() + 3))\n",
    "plt.show()"
   ]
  },
  {
   "cell_type": "markdown",
   "metadata": {
    "id": "0331bfe7-f07f-4ddb-b2b5-d30e9816fa40",
    "papermill": {
     "duration": 0.05576,
     "end_time": "2022-01-09T09:32:40.879477",
     "exception": false,
     "start_time": "2022-01-09T09:32:40.823717",
     "status": "completed"
    },
    "tags": []
   },
   "source": [
    "- Passengers that travelled alone have a higher mortality than passengers that travelled with family.\n",
    "- The survival chances for passengers tha travelled alone and those that travelled with family is almost the same."
   ]
  },
  {
   "cell_type": "code",
   "execution_count": null,
   "metadata": {
    "execution": {
     "iopub.execute_input": "2022-01-09T09:32:40.995046Z",
     "iopub.status.busy": "2022-01-09T09:32:40.994043Z",
     "iopub.status.idle": "2022-01-09T09:32:41.014714Z",
     "shell.execute_reply": "2022-01-09T09:32:41.015158Z",
     "shell.execute_reply.started": "2022-01-09T09:00:12.767463Z"
    },
    "id": "a806e850-8929-436e-ad51-82ec6f56707c",
    "papermill": {
     "duration": 0.08004,
     "end_time": "2022-01-09T09:32:41.015318",
     "exception": false,
     "start_time": "2022-01-09T09:32:40.935278",
     "status": "completed"
    },
    "tags": []
   },
   "outputs": [],
   "source": [
    "df"
   ]
  },
  {
   "cell_type": "code",
   "execution_count": null,
   "metadata": {
    "execution": {
     "iopub.execute_input": "2022-01-09T09:32:41.130279Z",
     "iopub.status.busy": "2022-01-09T09:32:41.129374Z",
     "iopub.status.idle": "2022-01-09T09:32:41.145327Z",
     "shell.execute_reply": "2022-01-09T09:32:41.145805Z",
     "shell.execute_reply.started": "2022-01-09T09:00:13.194300Z"
    },
    "id": "b9d7531d-4bc8-4485-aee9-f00746b548d9",
    "papermill": {
     "duration": 0.07516,
     "end_time": "2022-01-09T09:32:41.145974",
     "exception": false,
     "start_time": "2022-01-09T09:32:41.070814",
     "status": "completed"
    },
    "tags": []
   },
   "outputs": [],
   "source": [
    "df.drop(['PassengerId', 'Name', 'SibSp', 'Parch', 'Ticket', 'Cabin', 'Embarked'], axis = 1, inplace = True)\n",
    "df"
   ]
  },
  {
   "cell_type": "code",
   "execution_count": null,
   "metadata": {
    "execution": {
     "iopub.execute_input": "2022-01-09T09:32:41.262980Z",
     "iopub.status.busy": "2022-01-09T09:32:41.262013Z",
     "iopub.status.idle": "2022-01-09T09:32:41.651201Z",
     "shell.execute_reply": "2022-01-09T09:32:41.652053Z",
     "shell.execute_reply.started": "2022-01-09T09:00:13.658273Z"
    },
    "id": "7cd32e81-55e5-45ce-8841-b51e17d5ead9",
    "papermill": {
     "duration": 0.449264,
     "end_time": "2022-01-09T09:32:41.652332",
     "exception": false,
     "start_time": "2022-01-09T09:32:41.203068",
     "status": "completed"
    },
    "tags": []
   },
   "outputs": [],
   "source": [
    "msno.bar(df, color = (0, 0.4, 0.8), sort = \"ascending\", figsize = (15, 10))\n",
    "plt.show()"
   ]
  },
  {
   "cell_type": "code",
   "execution_count": null,
   "metadata": {
    "execution": {
     "iopub.execute_input": "2022-01-09T09:32:41.803012Z",
     "iopub.status.busy": "2022-01-09T09:32:41.802305Z",
     "iopub.status.idle": "2022-01-09T09:32:41.971640Z",
     "shell.execute_reply": "2022-01-09T09:32:41.971083Z",
     "shell.execute_reply.started": "2022-01-09T09:00:14.305881Z"
    },
    "id": "4cb5ad33-af5c-491c-903b-422896c5ea13",
    "papermill": {
     "duration": 0.230339,
     "end_time": "2022-01-09T09:32:41.971797",
     "exception": false,
     "start_time": "2022-01-09T09:32:41.741458",
     "status": "completed"
    },
    "tags": []
   },
   "outputs": [],
   "source": [
    "plt.figure(figsize = (15, 10))\n",
    "sns.heatmap(df.isna(), yticklabels = False, cbar = False, cmap = 'viridis')\n",
    "plt.title(\"Visualizing the Missing Data\", fontsize = 20)\n",
    "plt.xticks(rotation = 35, fontsize = 15)\n",
    "plt.show()"
   ]
  },
  {
   "cell_type": "markdown",
   "metadata": {
    "execution": {
     "iopub.execute_input": "2022-01-09T01:45:56.768913Z",
     "iopub.status.busy": "2022-01-09T01:45:56.768634Z",
     "iopub.status.idle": "2022-01-09T01:45:56.775166Z",
     "shell.execute_reply": "2022-01-09T01:45:56.773861Z",
     "shell.execute_reply.started": "2022-01-09T01:45:56.768883Z"
    },
    "id": "7e2a01d5-ba06-4df0-9b02-8dddcdb4baf0",
    "papermill": {
     "duration": 0.057935,
     "end_time": "2022-01-09T09:32:42.087948",
     "exception": false,
     "start_time": "2022-01-09T09:32:42.030013",
     "status": "completed"
    },
    "tags": []
   },
   "source": [
    "Our dataset no longer contains any missing values. We can now encode and scale the data to start training our ML models."
   ]
  },
  {
   "cell_type": "markdown",
   "metadata": {
    "id": "6632647a-a834-48bc-b351-423f1062801e",
    "papermill": {
     "duration": 0.059094,
     "end_time": "2022-01-09T09:32:42.204945",
     "exception": false,
     "start_time": "2022-01-09T09:32:42.145851",
     "status": "completed"
    },
    "tags": []
   },
   "source": [
    "# Checking for Correlation"
   ]
  },
  {
   "cell_type": "code",
   "execution_count": null,
   "metadata": {
    "execution": {
     "iopub.execute_input": "2022-01-09T09:32:42.337878Z",
     "iopub.status.busy": "2022-01-09T09:32:42.335896Z",
     "iopub.status.idle": "2022-01-09T09:32:42.609055Z",
     "shell.execute_reply": "2022-01-09T09:32:42.608496Z",
     "shell.execute_reply.started": "2022-01-09T09:00:15.847209Z"
    },
    "id": "66986756-07cb-418a-a9e5-ccd9690ee304",
    "papermill": {
     "duration": 0.346201,
     "end_time": "2022-01-09T09:32:42.609191",
     "exception": false,
     "start_time": "2022-01-09T09:32:42.262990",
     "status": "completed"
    },
    "tags": []
   },
   "outputs": [],
   "source": [
    "plt.figure(figsize = (15, 10))\n",
    "sns.heatmap(df.corr(), cmap = 'Blues', square = True, annot = True)\n",
    "plt.title(\"Visualizing Correlations\", size = 20)\n",
    "plt.show()"
   ]
  },
  {
   "cell_type": "code",
   "execution_count": null,
   "metadata": {
    "execution": {
     "iopub.execute_input": "2022-01-09T09:32:42.786815Z",
     "iopub.status.busy": "2022-01-09T09:32:42.751014Z",
     "iopub.status.idle": "2022-01-09T09:32:44.010483Z",
     "shell.execute_reply": "2022-01-09T09:32:44.009930Z",
     "shell.execute_reply.started": "2022-01-09T09:00:16.393851Z"
    },
    "id": "6105ba3e-7dc0-4468-9f4c-889f4609dfda",
    "papermill": {
     "duration": 1.342211,
     "end_time": "2022-01-09T09:32:44.010622",
     "exception": false,
     "start_time": "2022-01-09T09:32:42.668411",
     "status": "completed"
    },
    "tags": []
   },
   "outputs": [],
   "source": [
    "numeric_features = ['Age', 'Fare']\n",
    "sns.pairplot(df[numeric_features], size = 5)\n",
    "plt.show()"
   ]
  },
  {
   "cell_type": "markdown",
   "metadata": {
    "id": "d45b2b18-7953-4906-8987-4ac28a3bc832",
    "papermill": {
     "duration": 0.060461,
     "end_time": "2022-01-09T09:32:44.132065",
     "exception": false,
     "start_time": "2022-01-09T09:32:44.071604",
     "status": "completed"
    },
    "tags": []
   },
   "source": [
    "# Encoding the Categorical Features\n",
    "The categorical data can be encoded using Label Encoder. It encodes labels with a value between 0 and n_classes - 1 where n is the number of distinct labels. If a label repeats it assigns the same value as assigned earlier. The categorical values can be converted into numeric values."
   ]
  },
  {
   "cell_type": "code",
   "execution_count": null,
   "metadata": {
    "execution": {
     "iopub.execute_input": "2022-01-09T09:32:44.257934Z",
     "iopub.status.busy": "2022-01-09T09:32:44.257019Z",
     "iopub.status.idle": "2022-01-09T09:32:44.262627Z",
     "shell.execute_reply": "2022-01-09T09:32:44.263017Z",
     "shell.execute_reply.started": "2022-01-09T09:00:18.983091Z"
    },
    "id": "448f5035-da61-442f-ac11-9b36ef17d293",
    "papermill": {
     "duration": 0.069749,
     "end_time": "2022-01-09T09:32:44.263178",
     "exception": false,
     "start_time": "2022-01-09T09:32:44.193429",
     "status": "completed"
    },
    "tags": []
   },
   "outputs": [],
   "source": [
    "label_encoder = LabelEncoder()\n",
    "\n",
    "def label_encoder_converter(df):\n",
    "    \n",
    "    df['Sex'] = label_encoder.fit_transform(df['Sex'])\n",
    "    df['IsAlone'] = label_encoder.fit_transform(df['IsAlone'])\n",
    "    \n",
    "label_encoder_converter(df)"
   ]
  },
  {
   "cell_type": "markdown",
   "metadata": {
    "id": "e22408a7-8b87-4e8a-a6e8-bea29baa4baf",
    "papermill": {
     "duration": 0.060187,
     "end_time": "2022-01-09T09:32:44.383579",
     "exception": false,
     "start_time": "2022-01-09T09:32:44.323392",
     "status": "completed"
    },
    "tags": []
   },
   "source": [
    "# Scaling the Data\n",
    "StandardScaler standardizes a feature by subtracting the mean and then scaling it to unit variance.\n",
    "<div style=\"width:100%;text-align: center;\"> <img align = left src=\"https://cdn-images-1.medium.com/max/800/0*vQEjz0mvylP--30Q.GIF\" style=\"height:150px\"></div>"
   ]
  },
  {
   "cell_type": "code",
   "execution_count": null,
   "metadata": {
    "execution": {
     "iopub.execute_input": "2022-01-09T09:32:44.508111Z",
     "iopub.status.busy": "2022-01-09T09:32:44.507166Z",
     "iopub.status.idle": "2022-01-09T09:32:44.524018Z",
     "shell.execute_reply": "2022-01-09T09:32:44.524443Z",
     "shell.execute_reply.started": "2022-01-09T09:00:20.340002Z"
    },
    "id": "4ebee6e8-0d39-4da1-b3a7-862d8db7b0a4",
    "papermill": {
     "duration": 0.080719,
     "end_time": "2022-01-09T09:32:44.524613",
     "exception": false,
     "start_time": "2022-01-09T09:32:44.443894",
     "status": "completed"
    },
    "tags": []
   },
   "outputs": [],
   "source": [
    "scaler = StandardScaler()\n",
    "df[numeric_features] = scaler.fit_transform(df[numeric_features])\n",
    "df"
   ]
  },
  {
   "cell_type": "code",
   "execution_count": null,
   "metadata": {
    "execution": {
     "iopub.execute_input": "2022-01-09T09:32:44.649958Z",
     "iopub.status.busy": "2022-01-09T09:32:44.649056Z",
     "iopub.status.idle": "2022-01-09T09:32:44.659874Z",
     "shell.execute_reply": "2022-01-09T09:32:44.659215Z",
     "shell.execute_reply.started": "2022-01-09T09:00:21.154955Z"
    },
    "id": "1de1a424-4afd-4808-bc38-5f54ca42a518",
    "papermill": {
     "duration": 0.074665,
     "end_time": "2022-01-09T09:32:44.660083",
     "exception": false,
     "start_time": "2022-01-09T09:32:44.585418",
     "status": "completed"
    },
    "tags": []
   },
   "outputs": [],
   "source": [
    "X = df.iloc[:, 1:]\n",
    "X.sort_index(axis=1, inplace=True)  # need to sort columns alphabetically for WSL scoring\n",
    "y = df['Survived']\n",
    "print(X, \"\\n\\n\\n\", y)"
   ]
  },
  {
   "cell_type": "code",
   "execution_count": null,
   "metadata": {
    "execution": {
     "iopub.execute_input": "2022-01-09T09:32:44.787538Z",
     "iopub.status.busy": "2022-01-09T09:32:44.786913Z",
     "iopub.status.idle": "2022-01-09T09:32:44.799015Z",
     "shell.execute_reply": "2022-01-09T09:32:44.799612Z",
     "shell.execute_reply.started": "2022-01-09T09:00:21.649724Z"
    },
    "id": "5b171c55-35b9-4c45-8f8b-46516631e7a0",
    "papermill": {
     "duration": 0.077156,
     "end_time": "2022-01-09T09:32:44.799779",
     "exception": false,
     "start_time": "2022-01-09T09:32:44.722623",
     "status": "completed"
    },
    "tags": []
   },
   "outputs": [],
   "source": [
    "df"
   ]
  },
  {
   "cell_type": "code",
   "execution_count": null,
   "metadata": {
    "id": "8af833aadff44bf5b1119b92502108f9"
   },
   "outputs": [],
   "source": [
    "X"
   ]
  },
  {
   "cell_type": "markdown",
   "metadata": {
    "id": "f047a59f-7f3d-44bf-a51a-8198b1b7d297",
    "papermill": {
     "duration": 0.061861,
     "end_time": "2022-01-09T09:32:44.923535",
     "exception": false,
     "start_time": "2022-01-09T09:32:44.861674",
     "status": "completed"
    },
    "tags": []
   },
   "source": [
    "# Splitting the Data into Train, Test, and Validation Sets"
   ]
  },
  {
   "cell_type": "code",
   "execution_count": null,
   "metadata": {
    "execution": {
     "iopub.execute_input": "2022-01-09T09:32:45.050631Z",
     "iopub.status.busy": "2022-01-09T09:32:45.049985Z",
     "iopub.status.idle": "2022-01-09T09:32:45.056692Z",
     "shell.execute_reply": "2022-01-09T09:32:45.057104Z",
     "shell.execute_reply.started": "2022-01-09T09:00:22.639726Z"
    },
    "id": "94e2c2e5-85c1-4469-a223-8f543e2fc8c8",
    "papermill": {
     "duration": 0.072249,
     "end_time": "2022-01-09T09:32:45.057286",
     "exception": false,
     "start_time": "2022-01-09T09:32:44.985037",
     "status": "completed"
    },
    "tags": []
   },
   "outputs": [],
   "source": [
    "# X_train, X_test, y_train, y_test = train_test_split(X, y, test_size = 0.2, random_state = 0)"
   ]
  },
  {
   "cell_type": "code",
   "execution_count": null,
   "metadata": {
    "id": "82cfdf523f6a41ab807177ebfc6c5b07"
   },
   "outputs": [],
   "source": [
    "ratio_train = 0.8\n",
    "ratio_val = 0.1\n",
    "ratio_test = 0.1\n",
    "\n",
    "# produces test split.\n",
    "x_remaining, X_test, y_remaining, y_test = train_test_split(X, y, test_size=ratio_test, random_state=0)\n",
    "\n",
    "# adjusts val ratio, w.r.t. remaining dataset.\n",
    "ratio_remaining = 1 - ratio_test\n",
    "ratio_val_adjusted = ratio_val / ratio_remaining\n",
    "\n",
    "# produces train and val splits.\n",
    "X_train, X_val, y_train, y_val = train_test_split(x_remaining, y_remaining, test_size=ratio_val_adjusted, random_state=0)"
   ]
  },
  {
   "cell_type": "code",
   "execution_count": null,
   "metadata": {
    "id": "536868e7c7c6485a8f42e0ea1216cc33"
   },
   "outputs": [],
   "source": [
    "X_train.shape"
   ]
  },
  {
   "cell_type": "code",
   "execution_count": null,
   "metadata": {
    "id": "b2193f2cb22a4ea399d3d79122981adf"
   },
   "outputs": [],
   "source": [
    "X_test.shape"
   ]
  },
  {
   "cell_type": "code",
   "execution_count": null,
   "metadata": {
    "id": "3231229da0e7487bb6b81be632991a9b"
   },
   "outputs": [],
   "source": [
    "X_val.shape"
   ]
  },
  {
   "cell_type": "markdown",
   "metadata": {
    "id": "2caa53d5-49c3-4e86-9334-d3e4db9f0a0c",
    "papermill": {
     "duration": 0.061584,
     "end_time": "2022-01-09T09:32:45.180866",
     "exception": false,
     "start_time": "2022-01-09T09:32:45.119282",
     "status": "completed"
    },
    "tags": []
   },
   "source": [
    "# Logistic Regression\n",
    "Logistic regression is a supervised learning algorithm used to predict the probability of a target variable. It is used for classification, in this case to predict whether a passenger survived or not"
   ]
  },
  {
   "cell_type": "code",
   "execution_count": null,
   "metadata": {
    "execution": {
     "iopub.execute_input": "2022-01-09T09:32:45.309152Z",
     "iopub.status.busy": "2022-01-09T09:32:45.308544Z",
     "iopub.status.idle": "2022-01-09T09:32:45.327340Z",
     "shell.execute_reply": "2022-01-09T09:32:45.327870Z",
     "shell.execute_reply.started": "2022-01-09T09:00:23.483667Z"
    },
    "id": "63b693eb-09e4-46ed-9008-1a3e4dd93b34",
    "papermill": {
     "duration": 0.084358,
     "end_time": "2022-01-09T09:32:45.328033",
     "exception": false,
     "start_time": "2022-01-09T09:32:45.243675",
     "status": "completed"
    },
    "tags": []
   },
   "outputs": [],
   "source": [
    "lr = LogisticRegression()\n",
    "lr.fit(X_train, y_train)\n",
    "y_pred = lr.predict(X_test)\n",
    "acc_lr = lr.score(X_test, y_test)\n",
    "print(acc_lr * 100, \"%\")\n",
    "cm_lr = confusion_matrix(y_test, y_pred)\n",
    "print(cm_lr)"
   ]
  },
  {
   "cell_type": "markdown",
   "metadata": {
    "id": "b7b283b3-d008-4414-885a-41e85e4746c3",
    "papermill": {
     "duration": 0.061361,
     "end_time": "2022-01-09T09:32:45.452017",
     "exception": false,
     "start_time": "2022-01-09T09:32:45.390656",
     "status": "completed"
    },
    "tags": []
   },
   "source": [
    "# K-Nearest Neighbors\n",
    "KNN works by finding the distances between a query and all the examples in the data, selecting the specified number examples (K) closest to the query, then votes for the most frequent label."
   ]
  },
  {
   "cell_type": "code",
   "execution_count": null,
   "metadata": {
    "execution": {
     "iopub.execute_input": "2022-01-09T09:32:45.582657Z",
     "iopub.status.busy": "2022-01-09T09:32:45.577996Z",
     "iopub.status.idle": "2022-01-09T09:32:45.604959Z",
     "shell.execute_reply": "2022-01-09T09:32:45.605560Z",
     "shell.execute_reply.started": "2022-01-09T09:00:24.438936Z"
    },
    "id": "3a9f8174-1c67-4823-a86b-ceaa357585b2",
    "papermill": {
     "duration": 0.092003,
     "end_time": "2022-01-09T09:32:45.605736",
     "exception": false,
     "start_time": "2022-01-09T09:32:45.513733",
     "status": "completed"
    },
    "tags": []
   },
   "outputs": [],
   "source": [
    "knn = KNeighborsClassifier()\n",
    "knn.fit(X_train, y_train)\n",
    "y_pred = knn.predict(X_test)\n",
    "acc_knn = knn.score(X_test, y_test)\n",
    "print(acc_knn * 100, \"%\")\n",
    "cm_knn = confusion_matrix(y_test, y_pred)\n",
    "print(cm_knn)"
   ]
  },
  {
   "cell_type": "markdown",
   "metadata": {
    "id": "edaaa1d2-5b60-4dab-b021-6c8dffc9f616",
    "papermill": {
     "duration": 0.062276,
     "end_time": "2022-01-09T09:32:45.730534",
     "exception": false,
     "start_time": "2022-01-09T09:32:45.668258",
     "status": "completed"
    },
    "tags": []
   },
   "source": [
    "# Support Vector Classifier\n",
    "It is used in classification problems to predict which class the target variable belongs to."
   ]
  },
  {
   "cell_type": "code",
   "execution_count": null,
   "metadata": {
    "execution": {
     "iopub.execute_input": "2022-01-09T09:32:45.860875Z",
     "iopub.status.busy": "2022-01-09T09:32:45.860170Z",
     "iopub.status.idle": "2022-01-09T09:32:45.884453Z",
     "shell.execute_reply": "2022-01-09T09:32:45.884995Z",
     "shell.execute_reply.started": "2022-01-09T09:00:26.503788Z"
    },
    "id": "d81fb934-89a6-4ea8-94f7-47ec08f1372d",
    "papermill": {
     "duration": 0.091455,
     "end_time": "2022-01-09T09:32:45.885153",
     "exception": false,
     "start_time": "2022-01-09T09:32:45.793698",
     "status": "completed"
    },
    "tags": []
   },
   "outputs": [],
   "source": [
    "svc = SVC()\n",
    "svc.fit(X_train, y_train)\n",
    "y_pred = svc.predict(X_test)\n",
    "acc_svc = svc.score(X_test, y_test)\n",
    "print(acc_svc * 100, \"%\")\n",
    "cm_svc = confusion_matrix(y_test, y_pred)\n",
    "print(cm_svc)"
   ]
  },
  {
   "cell_type": "markdown",
   "metadata": {
    "id": "357dfbda-25a1-4b7f-9826-0573b9ff7175",
    "papermill": {
     "duration": 0.063726,
     "end_time": "2022-01-09T09:32:46.011788",
     "exception": false,
     "start_time": "2022-01-09T09:32:45.948062",
     "status": "completed"
    },
    "tags": []
   },
   "source": [
    "# Decision Tree Classifier\n",
    "Decision trees use multiple algorithms to decide to split a node into two or more sub-nodes. The creation of sub-nodes increases the homogeneity of resultant sub-nodes. In other words, we can say that the purity of the node increases with respect to the target variable.\n",
    "<div style=\"width:100%;text-align: center;\"> <img align = left src=\"https://res.cloudinary.com/dyd911kmh/image/upload/f_auto,q_auto:best/v1545934190/1_r5ikdb.png\" style=\"height:500px\"> </div>"
   ]
  },
  {
   "cell_type": "code",
   "execution_count": null,
   "metadata": {
    "execution": {
     "iopub.execute_input": "2022-01-09T09:32:46.142090Z",
     "iopub.status.busy": "2022-01-09T09:32:46.141458Z",
     "iopub.status.idle": "2022-01-09T09:32:46.156873Z",
     "shell.execute_reply": "2022-01-09T09:32:46.157685Z",
     "shell.execute_reply.started": "2022-01-09T09:00:27.963000Z"
    },
    "id": "e8c1dcd8-9367-4218-ba2e-3c650f45554a",
    "papermill": {
     "duration": 0.082278,
     "end_time": "2022-01-09T09:32:46.157969",
     "exception": false,
     "start_time": "2022-01-09T09:32:46.075691",
     "status": "completed"
    },
    "tags": []
   },
   "outputs": [],
   "source": [
    "dtc = DecisionTreeClassifier()\n",
    "dtc.fit(X_train, y_train)\n",
    "y_pred = dtc.predict(X_test)\n",
    "acc_dtc = dtc.score(X_test, y_test)\n",
    "print(acc_dtc * 100, \"%\")\n",
    "cm_dtc = confusion_matrix(y_test, y_pred)\n",
    "print(cm_dtc)"
   ]
  },
  {
   "cell_type": "markdown",
   "metadata": {
    "id": "8cd76db0-5210-4211-8cab-6f0083a9c32a",
    "papermill": {
     "duration": 0.062621,
     "end_time": "2022-01-09T09:32:46.285387",
     "exception": false,
     "start_time": "2022-01-09T09:32:46.222766",
     "status": "completed"
    },
    "tags": []
   },
   "source": [
    "# Visualizing the Decision Tree Classifier"
   ]
  },
  {
   "cell_type": "code",
   "execution_count": null,
   "metadata": {
    "execution": {
     "iopub.execute_input": "2022-01-09T09:32:46.440145Z",
     "iopub.status.busy": "2022-01-09T09:32:46.439161Z",
     "iopub.status.idle": "2022-01-09T09:32:47.309182Z",
     "shell.execute_reply": "2022-01-09T09:32:47.309660Z",
     "shell.execute_reply.started": "2022-01-09T09:00:29.933620Z"
    },
    "id": "e0b2c14b-3e42-4104-b5d1-15edf4a176a5",
    "papermill": {
     "duration": 0.940296,
     "end_time": "2022-01-09T09:32:47.309833",
     "exception": false,
     "start_time": "2022-01-09T09:32:46.369537",
     "status": "completed"
    },
    "tags": []
   },
   "outputs": [],
   "source": [
    "dot_data = tree.export_graphviz(dtc, out_file = None, feature_names = X.columns, class_names = [\"0\", \"1\"], filled = True)\n",
    "graph = graphviz.Source(dot_data, format = \"jpg\")\n",
    "display(graph)"
   ]
  },
  {
   "cell_type": "markdown",
   "metadata": {
    "id": "7ff011dd-67f6-4296-919b-ef2de5856a9f",
    "papermill": {
     "duration": 0.075144,
     "end_time": "2022-01-09T09:32:47.460462",
     "exception": false,
     "start_time": "2022-01-09T09:32:47.385318",
     "status": "completed"
    },
    "tags": []
   },
   "source": [
    "# Random Forest Classifier\n",
    "The random forest is a classification algorithm consisting of many decisions trees. It uses bagging and feature randomness when building each individual tree to try to create an uncorrelated forest of trees whose prediction by committee is more accurate than that of any individual tree.\n",
    "<div style=\"width:100%;text-align: center;\"> <img align = left src=\"https://www.freecodecamp.org/news/content/images/2020/08/how-random-forest-classifier-work.PNG\" style=\"height:400px\"> </div>"
   ]
  },
  {
   "cell_type": "code",
   "execution_count": null,
   "metadata": {
    "execution": {
     "iopub.execute_input": "2022-01-09T09:32:47.616538Z",
     "iopub.status.busy": "2022-01-09T09:32:47.615620Z",
     "iopub.status.idle": "2022-01-09T09:32:47.818983Z",
     "shell.execute_reply": "2022-01-09T09:32:47.819586Z",
     "shell.execute_reply.started": "2022-01-09T09:04:12.451701Z"
    },
    "id": "8676a68c-5eab-4f60-a2d5-6c81ddf64963",
    "papermill": {
     "duration": 0.283211,
     "end_time": "2022-01-09T09:32:47.819771",
     "exception": false,
     "start_time": "2022-01-09T09:32:47.536560",
     "status": "completed"
    },
    "tags": []
   },
   "outputs": [],
   "source": [
    "rf = RandomForestClassifier(random_state=0)\n",
    "rf.fit(X_train, y_train)\n",
    "y_pred = rf.predict(X_test)\n",
    "acc_rf = rf.score(X_test, y_test)\n",
    "print(acc_rf * 100, \"%\")\n",
    "cm_rf = confusion_matrix(y_test, y_pred)\n",
    "print(cm_rf)"
   ]
  },
  {
   "cell_type": "markdown",
   "metadata": {
    "id": "0e16fa47-494b-47ff-ba58-ca4dbde1bd32",
    "papermill": {
     "duration": 0.0754,
     "end_time": "2022-01-09T09:32:47.971640",
     "exception": false,
     "start_time": "2022-01-09T09:32:47.896240",
     "status": "completed"
    },
    "tags": []
   },
   "source": [
    "# AdaBoost Classifier\n",
    "It combines multiple classifiers to increase the accuracy of classifiers. AdaBoost is an iterative ensemble method. AdaBoost classifier builds a strong classifier by combining multiple poorly performing classifiers so that you will get high accuracy strong classifier."
   ]
  },
  {
   "cell_type": "code",
   "execution_count": null,
   "metadata": {
    "execution": {
     "iopub.execute_input": "2022-01-09T09:32:48.134137Z",
     "iopub.status.busy": "2022-01-09T09:32:48.133177Z",
     "iopub.status.idle": "2022-01-09T09:32:48.242981Z",
     "shell.execute_reply": "2022-01-09T09:32:48.243422Z",
     "shell.execute_reply.started": "2022-01-09T09:07:32.611044Z"
    },
    "id": "fb479c04-df1c-42d0-9982-bdb57c33e20a",
    "papermill": {
     "duration": 0.194962,
     "end_time": "2022-01-09T09:32:48.243601",
     "exception": false,
     "start_time": "2022-01-09T09:32:48.048639",
     "status": "completed"
    },
    "tags": []
   },
   "outputs": [],
   "source": [
    "adc = AdaBoostClassifier()\n",
    "adc.fit(X_train, y_train)\n",
    "y_pred = adc.predict(X_test)\n",
    "acc = adc.score(X_test, y_test)\n",
    "acc_adc = adc.score(X_test, y_test)\n",
    "print(acc_adc * 100, \"%\")\n",
    "cm_adc = confusion_matrix(y_test, y_pred)\n",
    "print(cm_adc)"
   ]
  },
  {
   "cell_type": "markdown",
   "metadata": {
    "id": "c9e6214e-6b21-45ee-b5e0-a0a17c20b4d4",
    "papermill": {
     "duration": 0.077285,
     "end_time": "2022-01-09T09:32:49.012870",
     "exception": false,
     "start_time": "2022-01-09T09:32:48.935585",
     "status": "completed"
    },
    "tags": []
   },
   "source": [
    "# Model Results"
   ]
  },
  {
   "cell_type": "code",
   "execution_count": null,
   "metadata": {
    "execution": {
     "iopub.execute_input": "2022-01-09T09:32:49.171143Z",
     "iopub.status.busy": "2022-01-09T09:32:49.170159Z",
     "iopub.status.idle": "2022-01-09T09:32:49.423598Z",
     "shell.execute_reply": "2022-01-09T09:32:49.423044Z",
     "shell.execute_reply.started": "2022-01-09T09:29:41.558384Z"
    },
    "id": "aa4c30c6-a529-4a26-88f1-f01182116aa8",
    "papermill": {
     "duration": 0.333205,
     "end_time": "2022-01-09T09:32:49.423743",
     "exception": false,
     "start_time": "2022-01-09T09:32:49.090538",
     "status": "completed"
    },
    "tags": []
   },
   "outputs": [],
   "source": [
    "data = {'Logistic Regression': acc_lr, 'KNN': acc_knn,\n",
    "        'Support Vector Classifier': acc_svc, 'Decision Tree Classifier': acc_dtc, 'Random Forest Classifier': acc_rf,\n",
    "        'Ada Boost Classifier': acc_adc}\n",
    "data = dict(sorted(data.items(), key = lambda x: x[1], reverse = True))\n",
    "models = list(data.keys())\n",
    "score = list(data.values())\n",
    "fig = plt.figure(figsize = (15, 10))\n",
    "sns.barplot(x = score, y = models)\n",
    "plt.xlabel(\"Models Used\", size = 20)\n",
    "plt.xticks(size = 15)\n",
    "plt.ylabel(\"Score\", size = 20)\n",
    "plt.yticks(size = 15)\n",
    "plt.title(\"Score for Unoptimized models\", size = 25)\n",
    "plt.show()"
   ]
  },
  {
   "cell_type": "markdown",
   "metadata": {
    "id": "18ea8a92fcc3412180e85f9ff3b87abe",
    "papermill": {
     "duration": 0.077133,
     "end_time": "2022-01-09T09:32:49.578132",
     "exception": false,
     "start_time": "2022-01-09T09:32:49.500999",
     "status": "completed"
    },
    "tags": []
   },
   "source": [
    "# Save Test Data"
   ]
  },
  {
   "cell_type": "code",
   "execution_count": null,
   "metadata": {
    "id": "95c1fc5725664825836a9c69c57f1584"
   },
   "outputs": [],
   "source": [
    "test_run_df = y_val.to_frame().join(X_val)\n",
    "test_run_df.head()"
   ]
  },
  {
   "cell_type": "code",
   "execution_count": null,
   "metadata": {
    "id": "bd5af28fda53415c845957709c39df84"
   },
   "outputs": [],
   "source": [
    "test_run_df.to_csv(os.environ['DSX_PROJECT_DIR']+'/datasets/test_df_titanic_labeled.csv', index = False)"
   ]
  },
  {
   "cell_type": "code",
   "execution_count": null,
   "metadata": {
    "id": "40c02bdf0a254ec7839d8983fc3f8557"
   },
   "outputs": [],
   "source": [
    "X_val.to_csv(os.environ['DSX_PROJECT_DIR']+'/datasets/test_df_titanic_unlabeled.csv', index = False)"
   ]
  },
  {
   "cell_type": "markdown",
   "metadata": {
    "id": "dbc4737d3d1d4e738eb950849be0347f",
    "papermill": {
     "duration": 0.077133,
     "end_time": "2022-01-09T09:32:49.578132",
     "exception": false,
     "start_time": "2022-01-09T09:32:49.500999",
     "status": "completed"
    },
    "tags": []
   },
   "source": [
    "# Save Model"
   ]
  },
  {
   "cell_type": "code",
   "execution_count": null,
   "metadata": {
    "id": "f9bc68f4759f48c48c0a439dca034044"
   },
   "outputs": [],
   "source": [
    "model_name = 'Classifier_Titanic_rf'"
   ]
  },
  {
   "cell_type": "code",
   "execution_count": null,
   "metadata": {
    "id": "daa8c211a16043598123b872db5c85df"
   },
   "outputs": [],
   "source": [
    "from dsx_ml.ml import save\n",
    "\n",
    "saved_model_output = save(name = model_name,\n",
    "                          model = rf,\n",
    "                          x_test=pd.DataFrame(X_test),\n",
    "                          y_test=pd.DataFrame(y_test),\n",
    "                          labelColumn_json = [{\"name\": \"Survived\", \"type\": \"int\"}],\n",
    "                          algorithm_type = 'Classification',\n",
    "                          source='titanic_survival_classification_models.ipynb',\n",
    "                          description='Classifier model for a titanic'\n",
    "                         )\n",
    "saved_model_output"
   ]
  },
  {
   "cell_type": "markdown",
   "metadata": {
    "id": "3c0c47f5b7aa486982997a7cac004710"
   },
   "source": [
    "## Make an online scoring prediction\n",
    "\n",
    "Upon saving a model, an internal online scoring endpoint is automatically created.\n",
    "\n",
    "Compatible models:\n",
    "https://www.ibm.com/docs/en/watson-studio-local/1.2.3?topic=data-machine-learning-models"
   ]
  },
  {
   "cell_type": "code",
   "execution_count": null,
   "metadata": {
    "id": "53b40e4347b44f5fb6eccfd35810e529"
   },
   "outputs": [],
   "source": [
    "import os\n",
    "import requests\n",
    "import json"
   ]
  },
  {
   "cell_type": "code",
   "execution_count": null,
   "metadata": {
    "id": "eec39e184d0f43bd8ea3da4f24d417fb"
   },
   "outputs": [],
   "source": [
    "# for dirname, _, filenames in os.walk(f\"/user-home/{os.environ['DSX_USER_ID']}/DSX_Projects/{os.environ['DSX_PROJECT_NAME']}\"):\n",
    "#     for filename in filenames:\n",
    "#         print(os.path.join(dirname, filename))"
   ]
  },
  {
   "cell_type": "code",
   "execution_count": null,
   "metadata": {
    "id": "e9a548a562a0409c99fc350c8b83c2aa"
   },
   "outputs": [],
   "source": [
    "with open(f\"/user-home/{os.environ['DSX_USER_ID']}/DSX_Projects/{os.environ['DSX_PROJECT_NAME']}/models/{model_name}/metadata.json\") as infile:\n",
    "    metadata_dict = json.load(infile)"
   ]
  },
  {
   "cell_type": "code",
   "execution_count": null,
   "metadata": {
    "id": "9965a690bdc0435788e51ca834256f43"
   },
   "outputs": [],
   "source": [
    "print(f\"Model Type: {metadata_dict['algorithm']}\")\n",
    "print(\"Feature(s):\")\n",
    "for feature in metadata_dict['features']:\n",
    "    print('    '+feature['name'])\n",
    "\n",
    "print(f\"Latest Model Version: {metadata_dict['latestModelVersion']}\")\n",
    "print(\"Label(s):\")\n",
    "for label in metadata_dict['labelColumns']:\n",
    "    print('    '+label['name'])"
   ]
  },
  {
   "cell_type": "code",
   "execution_count": null,
   "metadata": {
    "id": "e0f43ba840f44e99ba0d93051ce7a5b2"
   },
   "outputs": [],
   "source": [
    "header_online = {'Content-Type': 'application/json', 'Authorization': os.environ['DSX_TOKEN']}"
   ]
  },
  {
   "cell_type": "markdown",
   "metadata": {
    "id": "1758a1e3-7a7e-4e60-8bc4-0cf6f629686c"
   },
   "source": [
    "New data is provided in the following cell."
   ]
  },
  {
   "cell_type": "code",
   "execution_count": null,
   "metadata": {
    "id": "13a8b1b5363e43018ca5c5513edd0f31"
   },
   "outputs": [],
   "source": [
    "payload = [{\"Age\":-0.4464399261,\"Fare\":-0.3573083058,\"IsAlone\":0,\"Pclass\":3,\"Sex\":1}]\n",
    "print(payload)"
   ]
  },
  {
   "cell_type": "markdown",
   "metadata": {
    "id": "d0533753-00e9-463d-acf0-b904fa93034e"
   },
   "source": [
    "The model evaluates new data and give an estimate scoring."
   ]
  },
  {
   "cell_type": "code",
   "execution_count": null,
   "metadata": {
    "id": "b697ccfc97364ed3aa9159bbbe2ba73a"
   },
   "outputs": [],
   "source": [
    "scoring_response = requests.post(saved_model_output['scoring_endpoint'], json=payload, headers=header_online)"
   ]
  },
  {
   "cell_type": "code",
   "execution_count": null,
   "metadata": {
    "id": "f13663de05e34c188ffd3ed6b0bde2d6"
   },
   "outputs": [],
   "source": [
    "json.loads(scoring_response.content)"
   ]
  },
  {
   "cell_type": "markdown",
   "metadata": {
    "id": "475a94294bf6486982aac8b1ad49268c"
   },
   "source": [
    "## Make batch online scoring prediction via API\n",
    "\n",
    "In Watson Studio, an online batch scoring endpoint can be created.  \n",
    "By running batch score at least once to generate a script, API details can be generated by going to {Your project} > Scripts > {your model} then click the 3 vertical dots on the right then Test API…"
   ]
  },
  {
   "cell_type": "markdown",
   "metadata": {
    "id": "d6b64c4d43ba4d49a6ec7d7b7e12c0f8"
   },
   "source": [
    "To test a script, a bearer token (accessToken) is needed to authenticate the user. The token lasts for 13 hours and can be retrieved by running:"
   ]
  },
  {
   "cell_type": "code",
   "execution_count": null,
   "metadata": {
    "id": "4a1887d84a2f467281da3f9f12202013"
   },
   "outputs": [],
   "source": [
    "url_batch_score_auth = 'https://52.116.135.95/v1/preauth/validateAuth'\n",
    "url_batch_score = 'https://52.116.135.95/dsx-py3-script/ibmdsxuser-1003/1648180381668/batch_score'"
   ]
  },
  {
   "cell_type": "code",
   "execution_count": null,
   "metadata": {
    "id": "148de89faf8b4fb68e6ea8c068c321ce"
   },
   "outputs": [],
   "source": [
    "score_auth = requests.get(url_batch_score_auth, auth=({{your username}}, {{your password}}), verify=False)"
   ]
  },
  {
   "cell_type": "code",
   "execution_count": null,
   "metadata": {
    "id": "02e2a1ec829749d89819d99c4f2dbf2b"
   },
   "outputs": [],
   "source": [
    "json.loads(score_auth.content)"
   ]
  },
  {
   "cell_type": "code",
   "execution_count": null,
   "metadata": {
    "id": "2e7633d5cefd422198a9f19e25a683de"
   },
   "outputs": [],
   "source": [
    "accessToken = json.loads(score_auth.content)['accessToken']"
   ]
  },
  {
   "cell_type": "code",
   "execution_count": null,
   "metadata": {
    "id": "a783fcbb9511426c84c1186051d00882"
   },
   "outputs": [],
   "source": [
    "header_batch_score = {'Content-Type': 'application/json', 'Authorization': f'Bearer {accessToken}'}"
   ]
  },
  {
   "cell_type": "code",
   "execution_count": null,
   "metadata": {
    "id": "2701fc8bc5d948a3926fbc8c1cce88bf"
   },
   "outputs": [],
   "source": [
    "args = {'execution_type': 'DSX', 'target': '/datasets/test-results.csv', 'source': '/datasets/test_df_titanic_unlabeled.csv', 'output_type': 'Localfile', 'output_datasource_type': '', 'sysparm': '', 'remoteHost': '', 'remoteHostImage': '', 'livyVersion': 'livyspark2'}"
   ]
  },
  {
   "cell_type": "code",
   "execution_count": null,
   "metadata": {
    "id": "a1d49b34fae1463f8a1dbf52d6ad82be"
   },
   "outputs": [],
   "source": [
    "batch_score_payload = { \"relativeScriptPath\": \"scripts/batch_score_titanic_sample.py\", \"args\": args }"
   ]
  },
  {
   "cell_type": "markdown",
   "metadata": {
    "id": "a8c7692462fb430d8d2fe058d876bba3"
   },
   "source": [
    "# Batch score script template"
   ]
  },
  {
   "cell_type": "raw",
   "metadata": {
    "id": "1aab9a2f687846ae841bc18e2ebd99f8"
   },
   "source": [
    "#!/usr/bin/python\n",
    "\n",
    "import sys, os, pickle\n",
    "import pandas as pd\n",
    "from sklearn import model_selection\n",
    "from sklearn.externals import joblib\n",
    "import dsx_core_utils, re, jaydebeapi\n",
    "from sqlalchemy import *\n",
    "from sqlalchemy.types import String, Boolean\n",
    "\n",
    "# setup dsxr environmental vars from command line input\n",
    "from dsx_ml.ml import dsxr_setup_environment\n",
    "dsxr_setup_environment()\n",
    "\n",
    "def batch_score(args):\n",
    "\n",
    "  # define variables\n",
    "  # args = {'execution_type': 'DSX', 'target': '/datasets/test-results-2.csv', 'source': '/datasets/test_df_unlabeled.csv', 'output_type': 'Localfile', 'output_datasource_type': '', 'sysparm': '', 'remoteHost': '', 'remoteHostImage': '', 'livyVersion': 'livyspark2'}\n",
    "  input_data = os.getenv(\"DEF_DSX_DATASOURCE_INPUT_FILE\", (os.getenv(\"DSX_PROJECT_DIR\") + args.get(\"source\")))\n",
    "  output_data = os.getenv(\"DEF_DSX_DATASOURCE_OUTPUT_FILE\", (os.getenv(\"DSX_PROJECT_DIR\") + args.get(\"target\")))\n",
    "  model_path = os.getenv(\"DSX_PROJECT_DIR\") + os.path.join(\"/models\", os.getenv(\"DSX_MODEL_NAME\",\"Titanic_Prediction_Model\"), os.getenv(\"DSX_MODEL_VERSION\",\"4\"),\"model\")\n",
    "\n",
    "  # load the input data\n",
    "  dataframe = pd.read_csv(input_data)\n",
    "  \n",
    "  # load the model from disk\n",
    "  loaded_model = joblib.load(open(model_path, 'rb'))\n",
    "  \n",
    "  # predictions\n",
    "  scoring_result = loaded_model.predict(dataframe)\n",
    "  \n",
    "  # save scoring result to given target\n",
    "  scoring_df = pd.DataFrame(scoring_result)\n",
    "  \n",
    "  # save output to csv\n",
    "  scoring_df.to_csv(output_data, encoding='utf-8')\n",
    "\n",
    "  return scoring_df.to_json()"
   ]
  },
  {
   "cell_type": "code",
   "execution_count": null,
   "metadata": {
    "id": "44bd3895f35f4da48e544102538f598e"
   },
   "outputs": [],
   "source": [
    "batch_scoring_response = requests.post(url_batch_score, json=batch_score_payload, headers=header_batch_score, verify=False)"
   ]
  },
  {
   "cell_type": "code",
   "execution_count": null,
   "metadata": {
    "id": "7d788483cb804d648e901219ec16fd42"
   },
   "outputs": [],
   "source": [
    "json.loads(batch_scoring_response.content)"
   ]
  },
  {
   "cell_type": "markdown",
   "metadata": {
    "id": "370c62273f5440aea7a46b3e49a6bf5d"
   },
   "source": [
    "## Make an online scoring prediction via API\n",
    "\n",
    "Upon deploying in Watson Machine Learning, an online scoring endpoint is automatically created."
   ]
  },
  {
   "cell_type": "code",
   "execution_count": null,
   "metadata": {
    "id": "163a5671490a4b088580f5f7c88aad22"
   },
   "outputs": [],
   "source": [
    "url_score = 'https://52.116.135.95/dmodel/v1/python-lab/pyscript/titanic-classifier-rf/score'"
   ]
  },
  {
   "cell_type": "code",
   "execution_count": null,
   "metadata": {
    "id": "0df38a5879af4c2d83f5fedf32c141fa"
   },
   "outputs": [],
   "source": [
    "header_online_api = {'Content-Type': 'application/json', 'Cache-Control': 'no-cache', 'Authorization': {{your token}}}"
   ]
  },
  {
   "cell_type": "code",
   "execution_count": null,
   "metadata": {
    "id": "725e1d2cd69748f687faff3e6c72a1b6"
   },
   "outputs": [],
   "source": [
    "payload_data = {\"args\":{\"input_json\":[{\"Age\":99,\"Fare\":-0.3573083058,\"IsAlone\":0,\"Pclass\":3,\"Sex\":1}]}}\n",
    "print(payload_data)"
   ]
  },
  {
   "cell_type": "code",
   "execution_count": null,
   "metadata": {
    "id": "10fe14aa94bd4d118e86068fa983dc3c"
   },
   "outputs": [],
   "source": [
    "scoring_response_api = requests.post(url_score, json=payload_data, headers=header_online_api, verify=False)"
   ]
  },
  {
   "cell_type": "code",
   "execution_count": null,
   "metadata": {
    "id": "18807fa8c40a49a2839d8a1ba17eb974"
   },
   "outputs": [],
   "source": [
    "json.loads(scoring_response_api.content)"
   ]
  },
  {
   "cell_type": "markdown",
   "metadata": {
    "id": "a6b12392-3671-41e7-934d-54e80f969523",
    "papermill": {
     "duration": 0.077133,
     "end_time": "2022-01-09T09:32:49.578132",
     "exception": false,
     "start_time": "2022-01-09T09:32:49.500999",
     "status": "completed"
    },
    "tags": []
   },
   "source": [
    "# Creating the Submission File (Optional only if submitting to Kaggle for test/ranking)"
   ]
  },
  {
   "cell_type": "code",
   "execution_count": null,
   "metadata": {
    "id": "2b06c7c0ebc94d2580552fb49ccfef6f"
   },
   "outputs": [],
   "source": [
    "# display training dataset again\n",
    "train_df = pd.read_csv(os.environ['DSX_PROJECT_DIR']+'/datasets/train_titanic.csv')\n",
    "train_df.head()"
   ]
  },
  {
   "cell_type": "code",
   "execution_count": null,
   "metadata": {
    "execution": {
     "iopub.execute_input": "2022-01-09T09:32:49.742193Z",
     "iopub.status.busy": "2022-01-09T09:32:49.741535Z",
     "iopub.status.idle": "2022-01-09T09:32:49.791832Z",
     "shell.execute_reply": "2022-01-09T09:32:49.792285Z",
     "shell.execute_reply.started": "2022-01-09T09:30:19.526694Z"
    },
    "id": "040909f6-bfb3-4ac6-8b60-536510e30e93",
    "papermill": {
     "duration": 0.135505,
     "end_time": "2022-01-09T09:32:49.792489",
     "exception": false,
     "start_time": "2022-01-09T09:32:49.656984",
     "status": "completed"
    },
    "tags": []
   },
   "outputs": [],
   "source": [
    "# display test dataset\n",
    "test_df = pd.read_csv(os.environ['DSX_PROJECT_DIR']+'/datasets/test_titanic.csv')\n",
    "test_df.head()"
   ]
  },
  {
   "cell_type": "code",
   "execution_count": null,
   "metadata": {
    "id": "fcaead5674be4aef8925c833567c148e"
   },
   "outputs": [],
   "source": [
    "# preprocess test dataset for the model to be used\n",
    "test_df['Age'] = test_df[['Age', 'Pclass']].apply(transform_columns, axis = 1)\n",
    "test_df = test_df.drop(columns = ['Cabin'], axis = 1)\n",
    "test_df = test_df.fillna(df['Fare'].mean())\n",
    "test_df['IsAlone'] = test_df['SibSp'] + test_df['Parch']\n",
    "convert_IsAlone(test_df)\n",
    "test_df.drop(['PassengerId', 'Name', 'SibSp', 'Parch', 'Ticket', 'Embarked'], axis = 1, inplace = True)\n",
    "label_encoder_converter(test_df)\n",
    "X = test_df.iloc[:, 0:]\n",
    "X.head()"
   ]
  },
  {
   "cell_type": "code",
   "execution_count": null,
   "metadata": {
    "id": "399e3217634b488bbca8202684955e88"
   },
   "outputs": [],
   "source": [
    "y_pred = rf.predict(X)\n",
    "final_pred = list(y_pred)\n",
    "final_sub = pd.read_csv(os.environ['DSX_PROJECT_DIR']+'/datasets/test_titanic.csv')['PassengerId']\n",
    "final_sub = pd.DataFrame(final_sub)\n",
    "final_sub['Survived'] = final_pred\n",
    "#final_sub.to_csv('submission', index = False)\n",
    "final_sub.head()"
   ]
  },
  {
   "cell_type": "code",
   "execution_count": null,
   "metadata": {
    "id": "4f68b7f89ef4479b9b718dd2e19af675"
   },
   "outputs": [],
   "source": []
  }
 ],
 "metadata": {
  "kernelspec": {
   "display_name": "Python 3.7 with Watson Studio Spark 2.2.1",
   "language": "python",
   "name": "py3clusterspark"
  },
  "language_info": {
   "codemirror_mode": {
    "name": "ipython",
    "version": 3
   },
   "file_extension": ".py",
   "mimetype": "text/x-python",
   "name": "python",
   "nbconvert_exporter": "python",
   "pygments_lexer": "ipython3",
   "version": "3.7.6"
  },
  "papermill": {
   "default_parameters": {},
   "duration": 28.324877,
   "end_time": "2022-01-09T09:32:50.839921",
   "environment_variables": {},
   "exception": null,
   "input_path": "__notebook__.ipynb",
   "output_path": "__notebook__.ipynb",
   "parameters": {},
   "start_time": "2022-01-09T09:32:22.515044",
   "version": "2.3.3"
  }
 },
 "nbformat": 4,
 "nbformat_minor": 5
}
